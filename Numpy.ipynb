{
  "nbformat": 4,
  "nbformat_minor": 0,
  "metadata": {
    "colab": {
      "provenance": [],
      "authorship_tag": "ABX9TyM+IDzpzAxEYiLPSUUxsz8W",
      "include_colab_link": true
    },
    "kernelspec": {
      "name": "python3",
      "display_name": "Python 3"
    },
    "language_info": {
      "name": "python"
    }
  },
  "cells": [
    {
      "cell_type": "markdown",
      "metadata": {
        "id": "view-in-github",
        "colab_type": "text"
      },
      "source": [
        "<a href=\"https://colab.research.google.com/github/Sairam-DE/Python-DataEngineering/blob/main/Numpy.ipynb\" target=\"_parent\"><img src=\"https://colab.research.google.com/assets/colab-badge.svg\" alt=\"Open In Colab\"/></a>"
      ]
    },
    {
      "cell_type": "code",
      "source": [
        "#Numerical Python--NUMPY\n",
        "\"\"\"\n",
        "\n",
        "Numpy is a Python library used for working with arrays\n",
        "consisting of multidimensional array objects and a collection of routines for\n",
        "processing the arrays\n",
        "in python we have lists that serve the purpose of arrays, but they are slow\n",
        "to process\n",
        "numpy aims to provide an array object which works faster than traditional python lists\n",
        "numpy arrays are stored at one continuous place in memory unlike lists,\n",
        "processes can access and manipulate them very efficiently\n",
        "\n",
        "\n",
        "\"\"\"\n"
      ],
      "metadata": {
        "id": "H9ojVPVAMk9q"
      },
      "execution_count": null,
      "outputs": []
    },
    {
      "cell_type": "code",
      "source": [
        "#installation of Mumpy\n",
        "!pip install numpy"
      ],
      "metadata": {
        "colab": {
          "base_uri": "https://localhost:8080/"
        },
        "id": "meOuwAeuNhSk",
        "outputId": "6111c15c-5b62-4ef9-d02a-a366da6ee532"
      },
      "execution_count": null,
      "outputs": [
        {
          "output_type": "stream",
          "name": "stdout",
          "text": [
            "Requirement already satisfied: numpy in /usr/local/lib/python3.10/dist-packages (1.25.2)\n"
          ]
        }
      ]
    },
    {
      "cell_type": "code",
      "source": [
        "#to check numpy version\n",
        "import numpy\n",
        "print(numpy.__version__)"
      ],
      "metadata": {
        "colab": {
          "base_uri": "https://localhost:8080/"
        },
        "id": "4puOmCeON_b4",
        "outputId": "5b97d467-bd1b-4cb3-98c0-3bb26fc43748"
      },
      "execution_count": null,
      "outputs": [
        {
          "output_type": "stream",
          "name": "stdout",
          "text": [
            "1.25.2\n"
          ]
        }
      ]
    },
    {
      "cell_type": "code",
      "source": [
        "import numpy as np\n"
      ],
      "metadata": {
        "id": "1AeiXGpfPPf7"
      },
      "execution_count": null,
      "outputs": []
    },
    {
      "cell_type": "markdown",
      "source": [
        "CREATING ARRAYS\n"
      ],
      "metadata": {
        "id": "CNhfnAV4PZhz"
      }
    },
    {
      "cell_type": "code",
      "source": [
        "\"\"\"\n",
        "Creating Arrays\n",
        "\n",
        "· 0-Dimensional Arrays\n",
        "\n",
        "· 1-Dimensional Arrays\n",
        "\n",
        ". 2-Dimensional Arrays\n",
        "\n",
        ". 3-Dimensional Arrays\n",
        ">asarray( ) with nditer( )\n",
        ">frombuffer( )\n",
        ">fromiter( )\n",
        "\n",
        "\"\"'"
      ],
      "metadata": {
        "id": "pA7PJLxOPbk_"
      },
      "execution_count": null,
      "outputs": []
    },
    {
      "cell_type": "code",
      "source": [
        "a=np.array(69) #zero dimension\n",
        "print(a)"
      ],
      "metadata": {
        "colab": {
          "base_uri": "https://localhost:8080/"
        },
        "id": "2twEXncsPskn",
        "outputId": "b4d9933a-1e4f-44b6-c4eb-bf383893eec5"
      },
      "execution_count": null,
      "outputs": [
        {
          "output_type": "stream",
          "name": "stdout",
          "text": [
            "69\n"
          ]
        }
      ]
    },
    {
      "cell_type": "code",
      "source": [
        "a=np.array([69,10,20]) #one dimension\n",
        "print(a)"
      ],
      "metadata": {
        "colab": {
          "base_uri": "https://localhost:8080/"
        },
        "id": "ZlIy24vrP8-C",
        "outputId": "de9aafb2-a9a7-4952-865a-d7b4ffe2e79d"
      },
      "execution_count": null,
      "outputs": [
        {
          "output_type": "stream",
          "name": "stdout",
          "text": [
            "[69 10 20]\n"
          ]
        }
      ]
    },
    {
      "cell_type": "code",
      "source": [
        "\"\"\" tip \"\"\"\n",
        "\n",
        "#when ever there is comma in output it is list\n",
        "# or\n",
        "#when ever there is space it is array"
      ],
      "metadata": {
        "id": "aVkUSZwQQHpI"
      },
      "execution_count": null,
      "outputs": []
    },
    {
      "cell_type": "code",
      "source": [
        "a=np.array([[69,79], [89,87]]) #two dimension\n",
        "print(a)"
      ],
      "metadata": {
        "colab": {
          "base_uri": "https://localhost:8080/"
        },
        "id": "NcSQpNH8QPkw",
        "outputId": "c26d2c5f-52b0-491f-a13d-ad97563f436f"
      },
      "execution_count": null,
      "outputs": [
        {
          "output_type": "stream",
          "name": "stdout",
          "text": [
            "[[69 79]\n",
            " [89 87]]\n"
          ]
        }
      ]
    },
    {
      "cell_type": "code",
      "source": [
        "#when ever we want to access some thing\n",
        "a=np.array([[69,79], [89,87]]) #two dimension\n",
        "#[69,79] -- this goes as 0 index\n",
        "#[89,87] -- this goes as 1 index\n",
        "a[1][0] #-- we are accessing 1 index 0th element\n"
      ],
      "metadata": {
        "colab": {
          "base_uri": "https://localhost:8080/"
        },
        "id": "3IeUu-7fQu3L",
        "outputId": "78a3dd9f-d470-4555-f510-ebf4df1231bd"
      },
      "execution_count": null,
      "outputs": [
        {
          "output_type": "execute_result",
          "data": {
            "text/plain": [
              "89"
            ]
          },
          "metadata": {},
          "execution_count": 19
        }
      ]
    },
    {
      "cell_type": "code",
      "source": [
        "a=np.array([[[10,56,87], [88,78,65]], [[66,78,77], [55,89,77]]])#--three dimension\n",
        "print(a)"
      ],
      "metadata": {
        "colab": {
          "base_uri": "https://localhost:8080/"
        },
        "id": "1J3oBW7ZRdfK",
        "outputId": "1735fa0b-a1c5-455d-8304-64c3833e54a2"
      },
      "execution_count": null,
      "outputs": [
        {
          "output_type": "stream",
          "name": "stdout",
          "text": [
            "[[[10 56 87]\n",
            "  [88 78 65]]\n",
            "\n",
            " [[66 78 77]\n",
            "  [55 89 77]]]\n"
          ]
        }
      ]
    },
    {
      "cell_type": "code",
      "source": [
        "a[1][0][0]"
      ],
      "metadata": {
        "colab": {
          "base_uri": "https://localhost:8080/"
        },
        "id": "duLwMoarSJpj",
        "outputId": "57bef8b1-0cba-4282-e874-a7032bed08e4"
      },
      "execution_count": null,
      "outputs": [
        {
          "output_type": "execute_result",
          "data": {
            "text/plain": [
              "66"
            ]
          },
          "metadata": {},
          "execution_count": 24
        }
      ]
    },
    {
      "cell_type": "code",
      "source": [
        "\"\"\"\n",
        "here we are changing a in to array by using as array assigning it to b\n",
        "\n",
        "and we are also describing everything by passing arguments\n",
        "a=should take values in a\n",
        "dtype= data type what we want\n",
        "and finally printing\n",
        "\n",
        "\"\"\"\n",
        "\n",
        "#as array\n",
        "a=[12,13,14]\n",
        "b=np.asarray(a,dtype=float)\n",
        "print(b)\n",
        "\n",
        "\n"
      ],
      "metadata": {
        "colab": {
          "base_uri": "https://localhost:8080/"
        },
        "id": "okVHFz0uShfk",
        "outputId": "8a208538-ffe5-4154-8178-3d23da179b5e"
      },
      "execution_count": null,
      "outputs": [
        {
          "output_type": "stream",
          "name": "stdout",
          "text": [
            "[12. 13. 14.]\n"
          ]
        }
      ]
    },
    {
      "cell_type": "code",
      "source": [
        "#doing same thing using nditer()\n",
        "# here we use other parameter\n",
        "#C= ROW MAJOR ORDER\n",
        "#F = COLUMN MAJOR ORDER"
      ],
      "metadata": {
        "id": "3mmuShjnTbfk"
      },
      "execution_count": null,
      "outputs": []
    },
    {
      "cell_type": "code",
      "source": [
        "a=[12,13,14]\n",
        "b=np.asarray(a,dtype=float,order=\"C\")\n",
        "print(b)"
      ],
      "metadata": {
        "colab": {
          "base_uri": "https://localhost:8080/"
        },
        "id": "TyNkE_vLUJn1",
        "outputId": "92929162-c3cb-40ab-b855-5d94396a40cf"
      },
      "execution_count": null,
      "outputs": [
        {
          "output_type": "stream",
          "name": "stdout",
          "text": [
            "[12. 13. 14.]\n"
          ]
        }
      ]
    },
    {
      "cell_type": "code",
      "source": [
        "#for proper visualization we use for loop\n",
        "for i in np.nditer(b):\n",
        "    print(i)"
      ],
      "metadata": {
        "colab": {
          "base_uri": "https://localhost:8080/"
        },
        "id": "SMYMRfijUqN7",
        "outputId": "40cc576b-4d95-476b-e3ee-11a719f50b9c"
      },
      "execution_count": null,
      "outputs": [
        {
          "output_type": "stream",
          "name": "stdout",
          "text": [
            "12.0\n",
            "13.0\n",
            "14.0\n"
          ]
        }
      ]
    },
    {
      "cell_type": "code",
      "source": [
        "a=[[12,13],[88,78]]\n",
        "b=np.asarray(a,dtype=float,order=\"F\")\n",
        "print(b)"
      ],
      "metadata": {
        "colab": {
          "base_uri": "https://localhost:8080/"
        },
        "id": "B_Q66_rsVPt8",
        "outputId": "5dad0213-25c2-4eb5-fa53-503335ef8368"
      },
      "execution_count": null,
      "outputs": [
        {
          "output_type": "stream",
          "name": "stdout",
          "text": [
            "[[12. 13.]\n",
            " [88. 78.]]\n"
          ]
        }
      ]
    },
    {
      "cell_type": "code",
      "source": [
        "#for proper visualization we use for loop\n",
        "for i in np.nditer(b):\n",
        "    print(i)"
      ],
      "metadata": {
        "colab": {
          "base_uri": "https://localhost:8080/"
        },
        "id": "-LJd66GpVNHK",
        "outputId": "d805bf67-f1a0-494a-ee2d-7afe502be0f7"
      },
      "execution_count": null,
      "outputs": [
        {
          "output_type": "stream",
          "name": "stdout",
          "text": [
            "12.0\n",
            "88.0\n",
            "13.0\n",
            "78.0\n"
          ]
        }
      ]
    },
    {
      "cell_type": "code",
      "source": [
        "#from buffer - we place in buffer than we consider in to data\n",
        "#b acts as buffer than the string we need\n",
        "a=b\"welcome to numpy\"\n"
      ],
      "metadata": {
        "id": "As3zVMZJVrZt"
      },
      "execution_count": null,
      "outputs": []
    },
    {
      "cell_type": "code",
      "source": [
        "b=np.frombuffer(a,dtype=\"S1\",count=2,offset=9)\n",
        "#a=input\n",
        "#string representation=S1\n",
        "#COUNT = What ever the values we want\n",
        "#offset= from where it to start\n",
        "print(b)\n",
        "#[b'o' b' ']--where \"b\" stands for buffer"
      ],
      "metadata": {
        "colab": {
          "base_uri": "https://localhost:8080/"
        },
        "id": "v0Gh_658WD7f",
        "outputId": "8b071d4f-5e1b-4287-dc1e-a5386885a54b"
      },
      "execution_count": null,
      "outputs": [
        {
          "output_type": "stream",
          "name": "stdout",
          "text": [
            "[b'o' b' ']\n"
          ]
        }
      ]
    },
    {
      "cell_type": "code",
      "source": [
        "#from iter\n",
        "a=[10,78,69,77,107]\n",
        "np.fromiter(a,dtype=int,count=3)\n",
        "#dtype you can take float, string as S1\n",
        "#dtype=datatype function\n"
      ],
      "metadata": {
        "colab": {
          "base_uri": "https://localhost:8080/"
        },
        "id": "fQ4yV5elXhhi",
        "outputId": "18c3c49d-3e33-4cd9-ca9b-73544a5c376c"
      },
      "execution_count": null,
      "outputs": [
        {
          "output_type": "execute_result",
          "data": {
            "text/plain": [
              "array([10, 78, 69])"
            ]
          },
          "metadata": {},
          "execution_count": 54
        }
      ]
    },
    {
      "cell_type": "code",
      "source": [
        "\"\"\"\n",
        "Initializing Array\n",
        "\n",
        "zeros( )\n",
        "\n",
        "full( )\n",
        "\n",
        "random.rand( )\n",
        "\n",
        "ones()\n",
        "\n",
        "eye( )\n",
        "\n",
        "\n",
        "\n",
        "Numerical Ranges\n",
        "\n",
        "> arange( )\n",
        "\n",
        "> linspace( )\n",
        "\n",
        "> logspace()\n",
        "\"\"\"\n",
        "\n"
      ],
      "metadata": {
        "id": "MYxJPLDxYUf8"
      },
      "execution_count": null,
      "outputs": []
    },
    {
      "cell_type": "code",
      "source": [
        "#np.zeros -- where everything filled with zeros\n",
        "a=np.zeros(3) # single dimensional array with three rows as zeros\n",
        "print(a)"
      ],
      "metadata": {
        "colab": {
          "base_uri": "https://localhost:8080/"
        },
        "id": "lTkibIlOYlBg",
        "outputId": "bec32041-62c1-4654-b860-54fed318b0dc"
      },
      "execution_count": null,
      "outputs": [
        {
          "output_type": "stream",
          "name": "stdout",
          "text": [
            "[0. 0. 0.]\n"
          ]
        }
      ]
    },
    {
      "cell_type": "code",
      "source": [
        "a=np.zeros([2,3])\n",
        "print(a)\n",
        "#here we can see 2 rows and three columns filled with zeros"
      ],
      "metadata": {
        "colab": {
          "base_uri": "https://localhost:8080/"
        },
        "id": "jLn_DLihY4Ni",
        "outputId": "e85486ee-d806-4740-f788-606f9c86cceb"
      },
      "execution_count": null,
      "outputs": [
        {
          "output_type": "stream",
          "name": "stdout",
          "text": [
            "[[0. 0. 0.]\n",
            " [0. 0. 0.]]\n"
          ]
        }
      ]
    },
    {
      "cell_type": "code",
      "source": [
        "q=np.zeros([3,7,9]) # 3 rows #7 sub strips #9columns\n",
        "print(q)"
      ],
      "metadata": {
        "colab": {
          "base_uri": "https://localhost:8080/"
        },
        "id": "wo8JN7icZGvt",
        "outputId": "49af9b39-e5ae-4ea6-f733-814d7ed0a995"
      },
      "execution_count": null,
      "outputs": [
        {
          "output_type": "stream",
          "name": "stdout",
          "text": [
            "[[[0. 0. 0. 0. 0. 0. 0. 0. 0.]\n",
            "  [0. 0. 0. 0. 0. 0. 0. 0. 0.]\n",
            "  [0. 0. 0. 0. 0. 0. 0. 0. 0.]\n",
            "  [0. 0. 0. 0. 0. 0. 0. 0. 0.]\n",
            "  [0. 0. 0. 0. 0. 0. 0. 0. 0.]\n",
            "  [0. 0. 0. 0. 0. 0. 0. 0. 0.]\n",
            "  [0. 0. 0. 0. 0. 0. 0. 0. 0.]]\n",
            "\n",
            " [[0. 0. 0. 0. 0. 0. 0. 0. 0.]\n",
            "  [0. 0. 0. 0. 0. 0. 0. 0. 0.]\n",
            "  [0. 0. 0. 0. 0. 0. 0. 0. 0.]\n",
            "  [0. 0. 0. 0. 0. 0. 0. 0. 0.]\n",
            "  [0. 0. 0. 0. 0. 0. 0. 0. 0.]\n",
            "  [0. 0. 0. 0. 0. 0. 0. 0. 0.]\n",
            "  [0. 0. 0. 0. 0. 0. 0. 0. 0.]]\n",
            "\n",
            " [[0. 0. 0. 0. 0. 0. 0. 0. 0.]\n",
            "  [0. 0. 0. 0. 0. 0. 0. 0. 0.]\n",
            "  [0. 0. 0. 0. 0. 0. 0. 0. 0.]\n",
            "  [0. 0. 0. 0. 0. 0. 0. 0. 0.]\n",
            "  [0. 0. 0. 0. 0. 0. 0. 0. 0.]\n",
            "  [0. 0. 0. 0. 0. 0. 0. 0. 0.]\n",
            "  [0. 0. 0. 0. 0. 0. 0. 0. 0.]]]\n"
          ]
        }
      ]
    },
    {
      "cell_type": "code",
      "source": [
        "#np.full -- with what we want to fill\n",
        "np.full([2,3],1)\n",
        "# 2&3 rows and columns\n",
        "# 1 value we need to fill\n"
      ],
      "metadata": {
        "colab": {
          "base_uri": "https://localhost:8080/"
        },
        "id": "XmqROru6ZvI_",
        "outputId": "6ca78e9d-1940-44a7-e1dd-dc07727c8bd0"
      },
      "execution_count": null,
      "outputs": [
        {
          "output_type": "execute_result",
          "data": {
            "text/plain": [
              "array([[1, 1, 1],\n",
              "       [1, 1, 1]])"
            ]
          },
          "metadata": {},
          "execution_count": 62
        }
      ]
    },
    {
      "cell_type": "code",
      "source": [
        "q=np.full([3,7],69)\n",
        "print(q)"
      ],
      "metadata": {
        "colab": {
          "base_uri": "https://localhost:8080/"
        },
        "id": "6zVFNsN1aMsO",
        "outputId": "3fb756d5-7eab-4fa3-8b6a-56f53768f89b"
      },
      "execution_count": null,
      "outputs": [
        {
          "output_type": "stream",
          "name": "stdout",
          "text": [
            "[[69 69 69 69 69 69 69]\n",
            " [69 69 69 69 69 69 69]\n",
            " [69 69 69 69 69 69 69]]\n"
          ]
        }
      ]
    },
    {
      "cell_type": "code",
      "source": [
        "q=np.full([2,3,4],77)\n",
        "print(q)"
      ],
      "metadata": {
        "colab": {
          "base_uri": "https://localhost:8080/"
        },
        "id": "ZFR278tcaW5U",
        "outputId": "96f17615-4301-440d-8fd9-4e1c46d4c8a3"
      },
      "execution_count": null,
      "outputs": [
        {
          "output_type": "stream",
          "name": "stdout",
          "text": [
            "[[[77 77 77 77]\n",
            "  [77 77 77 77]\n",
            "  [77 77 77 77]]\n",
            "\n",
            " [[77 77 77 77]\n",
            "  [77 77 77 77]\n",
            "  [77 77 77 77]]]\n"
          ]
        }
      ]
    },
    {
      "cell_type": "code",
      "source": [
        "#np.random rand -- fill with random values\n",
        "np.random.rand(2,3,4)\n",
        "#here no need subScript"
      ],
      "metadata": {
        "colab": {
          "base_uri": "https://localhost:8080/"
        },
        "id": "0C_AtLA9agko",
        "outputId": "00655fd2-a5f8-4e53-9cc9-c2f7c95f08af"
      },
      "execution_count": null,
      "outputs": [
        {
          "output_type": "execute_result",
          "data": {
            "text/plain": [
              "array([[[0.49839872, 0.47227313, 0.1229174 , 0.13185227],\n",
              "        [0.7682738 , 0.13309591, 0.804276  , 0.77794203],\n",
              "        [0.92460045, 0.88736788, 0.66769514, 0.70914156]],\n",
              "\n",
              "       [[0.8627815 , 0.91173461, 0.01973561, 0.28191583],\n",
              "        [0.41671522, 0.03178962, 0.57381964, 0.76099306],\n",
              "        [0.72770133, 0.26795795, 0.3493309 , 0.87862067]]])"
            ]
          },
          "metadata": {},
          "execution_count": 66
        }
      ]
    },
    {
      "cell_type": "code",
      "source": [
        "np.ones([2,3])\n",
        "#np.ones -- everything going to fill with 1"
      ],
      "metadata": {
        "colab": {
          "base_uri": "https://localhost:8080/"
        },
        "id": "QJxQWeiha8nN",
        "outputId": "afccba04-7de6-4504-a634-71c6bc33208c"
      },
      "execution_count": null,
      "outputs": [
        {
          "output_type": "execute_result",
          "data": {
            "text/plain": [
              "array([[1., 1., 1.],\n",
              "       [1., 1., 1.]])"
            ]
          },
          "metadata": {},
          "execution_count": 67
        }
      ]
    },
    {
      "cell_type": "code",
      "source": [
        "x=np.ones([2,3])\n",
        "print(x)\n",
        "#print 1 as float"
      ],
      "metadata": {
        "colab": {
          "base_uri": "https://localhost:8080/"
        },
        "id": "-uNHrArvbLIh",
        "outputId": "b99c8595-4aec-4371-b988-57dc1bcb1027"
      },
      "execution_count": null,
      "outputs": [
        {
          "output_type": "stream",
          "name": "stdout",
          "text": [
            "[[1. 1. 1.]\n",
            " [1. 1. 1.]]\n"
          ]
        }
      ]
    },
    {
      "cell_type": "code",
      "source": [
        "#np.ey -- print square matrix\n",
        "np.eye(9)\n",
        "#diagonal elements as 1\n",
        "#remaining as 0"
      ],
      "metadata": {
        "colab": {
          "base_uri": "https://localhost:8080/"
        },
        "id": "uZzt2jaUbSQW",
        "outputId": "180b3224-26f6-4186-e116-d9d6640afe14"
      },
      "execution_count": null,
      "outputs": [
        {
          "output_type": "execute_result",
          "data": {
            "text/plain": [
              "array([[1., 0., 0., 0., 0., 0., 0., 0., 0.],\n",
              "       [0., 1., 0., 0., 0., 0., 0., 0., 0.],\n",
              "       [0., 0., 1., 0., 0., 0., 0., 0., 0.],\n",
              "       [0., 0., 0., 1., 0., 0., 0., 0., 0.],\n",
              "       [0., 0., 0., 0., 1., 0., 0., 0., 0.],\n",
              "       [0., 0., 0., 0., 0., 1., 0., 0., 0.],\n",
              "       [0., 0., 0., 0., 0., 0., 1., 0., 0.],\n",
              "       [0., 0., 0., 0., 0., 0., 0., 1., 0.],\n",
              "       [0., 0., 0., 0., 0., 0., 0., 0., 1.]])"
            ]
          },
          "metadata": {},
          "execution_count": 72
        }
      ]
    },
    {
      "cell_type": "code",
      "source": [
        "q=np.eye(6)\n",
        "print(q)"
      ],
      "metadata": {
        "colab": {
          "base_uri": "https://localhost:8080/"
        },
        "id": "YObw4bFQbqpb",
        "outputId": "24f05bd3-e5d3-4056-fbfb-0b0190f40bbf"
      },
      "execution_count": null,
      "outputs": [
        {
          "output_type": "stream",
          "name": "stdout",
          "text": [
            "[[1. 0. 0. 0. 0. 0.]\n",
            " [0. 1. 0. 0. 0. 0.]\n",
            " [0. 0. 1. 0. 0. 0.]\n",
            " [0. 0. 0. 1. 0. 0.]\n",
            " [0. 0. 0. 0. 1. 0.]\n",
            " [0. 0. 0. 0. 0. 1.]]\n"
          ]
        }
      ]
    },
    {
      "cell_type": "markdown",
      "source": [
        "NUMERICAL RANGES"
      ],
      "metadata": {
        "id": "FWToKaO1bzn8"
      }
    },
    {
      "cell_type": "code",
      "source": [
        "q=np.arange(10,20,1)\n",
        "print(q)\n",
        "#starts with 10\n",
        "#end before 20\n",
        "#with difference 1"
      ],
      "metadata": {
        "colab": {
          "base_uri": "https://localhost:8080/"
        },
        "id": "ezxVfiT1b3qs",
        "outputId": "a9577263-1d32-49ae-acf8-46fe370d909e"
      },
      "execution_count": null,
      "outputs": [
        {
          "output_type": "stream",
          "name": "stdout",
          "text": [
            "[10 11 12 13 14 15 16 17 18 19]\n"
          ]
        }
      ]
    },
    {
      "cell_type": "code",
      "source": [
        "n=np.arange(88,1000,60)\n",
        "print(n)\n"
      ],
      "metadata": {
        "colab": {
          "base_uri": "https://localhost:8080/"
        },
        "id": "fJ5MAeALcJsw",
        "outputId": "26298f45-d3c5-44c0-ace5-05f50ac98a1a"
      },
      "execution_count": null,
      "outputs": [
        {
          "output_type": "stream",
          "name": "stdout",
          "text": [
            "[ 88 148 208 268 328 388 448 508 568 628 688 748 808 868 928 988]\n"
          ]
        }
      ]
    },
    {
      "cell_type": "code",
      "source": [
        "g=np.arange(88,99,1,dtype=float)\n",
        "print(g)\n",
        "#here everything prints as float"
      ],
      "metadata": {
        "colab": {
          "base_uri": "https://localhost:8080/"
        },
        "id": "rxKIohGBciNi",
        "outputId": "e7878804-9247-43cd-ddf8-18fd386b1706"
      },
      "execution_count": null,
      "outputs": [
        {
          "output_type": "stream",
          "name": "stdout",
          "text": [
            "[88. 89. 90. 91. 92. 93. 94. 95. 96. 97. 98.]\n"
          ]
        }
      ]
    },
    {
      "cell_type": "code",
      "source": [
        "#when ever we have equal division we can do reshape\n",
        "#by using reshape we can convert into multidimensional\n",
        "\n",
        "\n",
        "a=np.arange(10,70,10)\n",
        "print(a)\n",
        "k=a.reshape(2,3)\n",
        "print(k)"
      ],
      "metadata": {
        "colab": {
          "base_uri": "https://localhost:8080/"
        },
        "id": "R5TMW5ONc283",
        "outputId": "fd05c587-8784-4b86-eff8-751286798a8f"
      },
      "execution_count": null,
      "outputs": [
        {
          "output_type": "stream",
          "name": "stdout",
          "text": [
            "[10 20 30 40 50 60]\n",
            "[[10 20 30]\n",
            " [40 50 60]]\n"
          ]
        }
      ]
    },
    {
      "cell_type": "code",
      "source": [
        "#linspace()\n",
        "h=np.linspace(10,100,10)\n",
        "print(h)\n",
        "#here automatically float values prints\n",
        "#here endpoint get printted default\n",
        "#we can avoid by endpoint=false argument\n",
        "#endpoint by default true\n"
      ],
      "metadata": {
        "colab": {
          "base_uri": "https://localhost:8080/"
        },
        "id": "kJtZnQKOdjHN",
        "outputId": "b91e7cb8-8272-4feb-97e6-dcec6d7eafbb"
      },
      "execution_count": null,
      "outputs": [
        {
          "output_type": "stream",
          "name": "stdout",
          "text": [
            "[ 10.  20.  30.  40.  50.  60.  70.  80.  90. 100.]\n"
          ]
        }
      ]
    },
    {
      "cell_type": "code",
      "source": [
        "h=np.linspace(10,100,10,endpoint=False)\n",
        "print(h)\n",
        "#10-start\n",
        "#100-stop\n",
        "#10-n0.of intervals not stop"
      ],
      "metadata": {
        "colab": {
          "base_uri": "https://localhost:8080/"
        },
        "id": "b_7xJmMvebvn",
        "outputId": "eca20166-8472-4683-bc04-25f805fa8bd3"
      },
      "execution_count": null,
      "outputs": [
        {
          "output_type": "stream",
          "name": "stdout",
          "text": [
            "[10. 19. 28. 37. 46. 55. 64. 73. 82. 91.]\n"
          ]
        }
      ]
    },
    {
      "cell_type": "code",
      "source": [
        "#to know difference between each value we can use\n",
        "#retstep\n",
        "#retstep by default false\n",
        "#we need to put true when ever needed\n",
        "h=np.linspace(10,100,10,endpoint=False,retstep=True)\n",
        "print(h)"
      ],
      "metadata": {
        "colab": {
          "base_uri": "https://localhost:8080/"
        },
        "id": "QoB4D_ZIe-FL",
        "outputId": "b9d50493-9c73-48eb-efab-4effd766260f"
      },
      "execution_count": null,
      "outputs": [
        {
          "output_type": "stream",
          "name": "stdout",
          "text": [
            "(array([10., 19., 28., 37., 46., 55., 64., 73., 82., 91.]), 9.0)\n"
          ]
        }
      ]
    },
    {
      "cell_type": "code",
      "source": [
        "#9.0--at end represents difference"
      ],
      "metadata": {
        "id": "EvqGdDkvfPw5"
      },
      "execution_count": null,
      "outputs": []
    },
    {
      "cell_type": "code",
      "source": [
        "np.linspace(0,100,20,endpoint=False,retstep=True,dtype=int)\n"
      ],
      "metadata": {
        "colab": {
          "base_uri": "https://localhost:8080/"
        },
        "id": "9-VHVjlafU-w",
        "outputId": "4746b7b3-6ca3-4b3c-960d-c2d62936fc8b"
      },
      "execution_count": null,
      "outputs": [
        {
          "output_type": "execute_result",
          "data": {
            "text/plain": [
              "(array([ 0,  5, 10, 15, 20, 25, 30, 35, 40, 45, 50, 55, 60, 65, 70, 75, 80,\n",
              "        85, 90, 95]),\n",
              " 5.0)"
            ]
          },
          "metadata": {},
          "execution_count": 98
        }
      ]
    },
    {
      "cell_type": "code",
      "source": [
        "#for logarthimetic values\n",
        "np.logspace(0,10,10)\n",
        "#if needed we can pass dtype=\n",
        "#at end"
      ],
      "metadata": {
        "colab": {
          "base_uri": "https://localhost:8080/"
        },
        "id": "sWNFVI1ugINw",
        "outputId": "761223fc-f3f5-493f-93a5-10f931770e04"
      },
      "execution_count": null,
      "outputs": [
        {
          "output_type": "execute_result",
          "data": {
            "text/plain": [
              "array([1.00000000e+00, 1.29154967e+01, 1.66810054e+02, 2.15443469e+03,\n",
              "       2.78255940e+04, 3.59381366e+05, 4.64158883e+06, 5.99484250e+07,\n",
              "       7.74263683e+08, 1.00000000e+10])"
            ]
          },
          "metadata": {},
          "execution_count": 102
        }
      ]
    },
    {
      "cell_type": "code",
      "source": [
        "\"\"\"\n",
        "Array Properties\n",
        "\n",
        "np.size(array)\n",
        "\n",
        "SHAPE - np.shape(array)\n",
        "\n",
        "DTYPE - a.dtype(array) #a=array\n",
        "\n",
        "\"\"\""
      ],
      "metadata": {
        "id": "ZY-OCLo7ghU4"
      },
      "execution_count": null,
      "outputs": []
    },
    {
      "cell_type": "code",
      "source": [
        "a=np.arange(10,100,10)\n"
      ],
      "metadata": {
        "id": "SIwWdQDzruoA"
      },
      "execution_count": null,
      "outputs": []
    },
    {
      "cell_type": "code",
      "source": [
        "a"
      ],
      "metadata": {
        "colab": {
          "base_uri": "https://localhost:8080/"
        },
        "id": "LEBrVXASr7Dq",
        "outputId": "4b77847e-7e2a-4cce-a34d-e3a1d0f2a1a6"
      },
      "execution_count": null,
      "outputs": [
        {
          "output_type": "execute_result",
          "data": {
            "text/plain": [
              "array([10, 20, 30, 40, 50, 60, 70, 80, 90])"
            ]
          },
          "metadata": {},
          "execution_count": 104
        }
      ]
    },
    {
      "cell_type": "code",
      "source": [
        "np.size(a) #gives no.of elements"
      ],
      "metadata": {
        "colab": {
          "base_uri": "https://localhost:8080/"
        },
        "id": "vrCHzwbYr8os",
        "outputId": "bf97f476-70b8-4c3b-d35d-4cc06f451f29"
      },
      "execution_count": null,
      "outputs": [
        {
          "output_type": "execute_result",
          "data": {
            "text/plain": [
              "9"
            ]
          },
          "metadata": {},
          "execution_count": 105
        }
      ]
    },
    {
      "cell_type": "code",
      "source": [
        "a=a.reshape(3,3)\n",
        "print(a)"
      ],
      "metadata": {
        "colab": {
          "base_uri": "https://localhost:8080/"
        },
        "id": "N-uKv-uisEHe",
        "outputId": "ac4450e7-006a-4112-ca94-8b76d8872463"
      },
      "execution_count": null,
      "outputs": [
        {
          "output_type": "stream",
          "name": "stdout",
          "text": [
            "[[10 20 30]\n",
            " [40 50 60]\n",
            " [70 80 90]]\n"
          ]
        }
      ]
    },
    {
      "cell_type": "code",
      "source": [
        "np.size(a) #no.of elements"
      ],
      "metadata": {
        "colab": {
          "base_uri": "https://localhost:8080/"
        },
        "id": "qw8mNTVYs_iy",
        "outputId": "4e289dea-0ffd-4b8a-8ccc-3cca6b5e0eac"
      },
      "execution_count": null,
      "outputs": [
        {
          "output_type": "execute_result",
          "data": {
            "text/plain": [
              "9"
            ]
          },
          "metadata": {},
          "execution_count": 115
        }
      ]
    },
    {
      "cell_type": "code",
      "source": [
        "np.shape(a) #will get the shape"
      ],
      "metadata": {
        "colab": {
          "base_uri": "https://localhost:8080/"
        },
        "id": "Jq6sz_NEtEO7",
        "outputId": "7a4cdb86-fa08-462a-a423-2c3e9c2f0807"
      },
      "execution_count": null,
      "outputs": [
        {
          "output_type": "execute_result",
          "data": {
            "text/plain": [
              "(3, 3)"
            ]
          },
          "metadata": {},
          "execution_count": 116
        }
      ]
    },
    {
      "cell_type": "code",
      "source": [
        "a.dtype #we get the data type"
      ],
      "metadata": {
        "colab": {
          "base_uri": "https://localhost:8080/"
        },
        "id": "D6tTD7rQsXQn",
        "outputId": "1ca555f4-0df9-488b-84df-d59855657a59"
      },
      "execution_count": null,
      "outputs": [
        {
          "output_type": "execute_result",
          "data": {
            "text/plain": [
              "dtype('int64')"
            ]
          },
          "metadata": {},
          "execution_count": 110
        }
      ]
    },
    {
      "cell_type": "code",
      "source": [
        "\"\"\"\n",
        "Array Operations\n",
        "\n",
        "Accessing and Slicing Operations\n",
        "copy()\n",
        "\n",
        "view\n",
        "\n",
        "sort( )\n",
        "reshape()\n",
        "\n",
        "append( )\n",
        "insert( )\n",
        "delete( )\n",
        "\n",
        "concatenate( )\n",
        "\n",
        "stack()\n",
        "\n",
        "vstack()\n",
        "hstack( )\n",
        "dstack( )\n",
        "\n",
        "split( )\n",
        "where()\n",
        "searchsorted( )\n",
        "\n",
        "\"\"\""
      ],
      "metadata": {
        "id": "RnTgDP3UsikE"
      },
      "execution_count": null,
      "outputs": []
    },
    {
      "cell_type": "code",
      "source": [
        "#accessing\n",
        "a=np.array([[10,20,78],[88,77,99]])"
      ],
      "metadata": {
        "id": "oZ2Ko53mt0kh"
      },
      "execution_count": null,
      "outputs": []
    },
    {
      "cell_type": "code",
      "source": [
        "print(a[1][0])"
      ],
      "metadata": {
        "colab": {
          "base_uri": "https://localhost:8080/"
        },
        "id": "75lNbZWpuOPZ",
        "outputId": "00a07b33-b4db-4b74-ef1e-1ee2aba4ef38"
      },
      "execution_count": null,
      "outputs": [
        {
          "output_type": "stream",
          "name": "stdout",
          "text": [
            "88\n"
          ]
        }
      ]
    },
    {
      "cell_type": "code",
      "source": [
        "#slicing"
      ],
      "metadata": {
        "id": "6Qf2txI_uS4O"
      },
      "execution_count": null,
      "outputs": []
    },
    {
      "cell_type": "code",
      "source": [
        "x=np.arange(0,100,5)\n",
        "print(x)"
      ],
      "metadata": {
        "colab": {
          "base_uri": "https://localhost:8080/"
        },
        "id": "Fy1zNEWduYNi",
        "outputId": "690be4a3-afb1-433f-90f4-4c6c9c8daf24"
      },
      "execution_count": null,
      "outputs": [
        {
          "output_type": "stream",
          "name": "stdout",
          "text": [
            "[ 0  5 10 15 20 25 30 35 40 45 50 55 60 65 70 75 80 85 90 95]\n"
          ]
        }
      ]
    },
    {
      "cell_type": "code",
      "source": [
        "x[8:12]"
      ],
      "metadata": {
        "colab": {
          "base_uri": "https://localhost:8080/"
        },
        "id": "hnHJYDXauqEt",
        "outputId": "a0cba8a3-60c8-468e-ad4d-02528e12b912"
      },
      "execution_count": null,
      "outputs": [
        {
          "output_type": "execute_result",
          "data": {
            "text/plain": [
              "array([40, 45, 50, 55])"
            ]
          },
          "metadata": {},
          "execution_count": 123
        }
      ]
    },
    {
      "cell_type": "code",
      "source": [
        "#copy()\n",
        "b=np.copy(x)\n",
        "b"
      ],
      "metadata": {
        "colab": {
          "base_uri": "https://localhost:8080/"
        },
        "id": "uky_mXkku0Bo",
        "outputId": "8fe54b06-8c5d-4409-eb9b-9950230a8d8e"
      },
      "execution_count": null,
      "outputs": [
        {
          "output_type": "execute_result",
          "data": {
            "text/plain": [
              "array([ 0,  5, 10, 15, 20, 25, 30, 35, 40, 45, 50, 55, 60, 65, 70, 75, 80,\n",
              "       85, 90, 95])"
            ]
          },
          "metadata": {},
          "execution_count": 124
        }
      ]
    },
    {
      "cell_type": "code",
      "source": [
        "x,b"
      ],
      "metadata": {
        "colab": {
          "base_uri": "https://localhost:8080/"
        },
        "id": "XydecYHSvDPI",
        "outputId": "6a8a0fd0-f123-4ec2-9e3e-6634709e5a86"
      },
      "execution_count": null,
      "outputs": [
        {
          "output_type": "execute_result",
          "data": {
            "text/plain": [
              "(array([ 0,  5, 10, 15, 20, 25, 30, 35, 40, 45, 50, 55, 60, 65, 70, 75, 80,\n",
              "        85, 90, 95]),\n",
              " array([ 0,  5, 10, 15, 20, 25, 30, 35, 40, 45, 50, 55, 60, 65, 70, 75, 80,\n",
              "        85, 90, 95]))"
            ]
          },
          "metadata": {},
          "execution_count": 125
        }
      ]
    },
    {
      "cell_type": "code",
      "source": [
        "#view()--act as reference\n"
      ],
      "metadata": {
        "id": "jAIyCuXcvFz4"
      },
      "execution_count": null,
      "outputs": []
    },
    {
      "cell_type": "code",
      "source": [
        "a=np.array([[88,56,45],[34,54,34]])\n",
        "a"
      ],
      "metadata": {
        "colab": {
          "base_uri": "https://localhost:8080/"
        },
        "id": "KcxsLYeVv6qg",
        "outputId": "26847f04-8d87-409b-a82c-1beabadcae92"
      },
      "execution_count": null,
      "outputs": [
        {
          "output_type": "execute_result",
          "data": {
            "text/plain": [
              "array([[88, 56, 45],\n",
              "       [34, 54, 34]])"
            ]
          },
          "metadata": {},
          "execution_count": 132
        }
      ]
    },
    {
      "cell_type": "code",
      "source": [
        "c=a.view()\n",
        "c"
      ],
      "metadata": {
        "colab": {
          "base_uri": "https://localhost:8080/"
        },
        "id": "P0xQkQB4wHUr",
        "outputId": "694fca49-bb55-497c-fa10-0b9662eb66c5"
      },
      "execution_count": null,
      "outputs": [
        {
          "output_type": "execute_result",
          "data": {
            "text/plain": [
              "array([[88, 56, 45],\n",
              "       [34, 54, 34]])"
            ]
          },
          "metadata": {},
          "execution_count": 133
        }
      ]
    },
    {
      "cell_type": "code",
      "source": [
        "a[0][1]=99\n",
        "a"
      ],
      "metadata": {
        "colab": {
          "base_uri": "https://localhost:8080/"
        },
        "id": "NQs-kspCwTFI",
        "outputId": "0508bf5a-8eb3-4bd3-ab7f-8230eaa676f1"
      },
      "execution_count": null,
      "outputs": [
        {
          "output_type": "execute_result",
          "data": {
            "text/plain": [
              "array([[88, 99, 45],\n",
              "       [34, 54, 34]])"
            ]
          },
          "metadata": {},
          "execution_count": 134
        }
      ]
    },
    {
      "cell_type": "code",
      "source": [
        "c"
      ],
      "metadata": {
        "colab": {
          "base_uri": "https://localhost:8080/"
        },
        "id": "O8glK5z0waGB",
        "outputId": "688d2556-7911-4c56-802b-257b6b651ac5"
      },
      "execution_count": null,
      "outputs": [
        {
          "output_type": "execute_result",
          "data": {
            "text/plain": [
              "array([[88, 99, 45],\n",
              "       [34, 54, 34]])"
            ]
          },
          "metadata": {},
          "execution_count": 135
        }
      ]
    },
    {
      "cell_type": "code",
      "source": [
        "#here you can see what ever the cahnges done to the a\n",
        "#we can also see in c\n",
        "#in this view is going to useful"
      ],
      "metadata": {
        "id": "o4-vJhUNwcAt"
      },
      "execution_count": null,
      "outputs": []
    },
    {
      "cell_type": "code",
      "source": [
        "#sort()\n",
        "a=np.array([88,56,45,34,54,34])\n",
        "np.sort(a)\n"
      ],
      "metadata": {
        "colab": {
          "base_uri": "https://localhost:8080/"
        },
        "id": "dHpFmWdpwf5N",
        "outputId": "333e24b5-5d4a-4d5f-b9ad-3e4548daf621"
      },
      "execution_count": null,
      "outputs": [
        {
          "output_type": "execute_result",
          "data": {
            "text/plain": [
              "array([34, 34, 45, 54, 56, 88])"
            ]
          },
          "metadata": {},
          "execution_count": 143
        }
      ]
    },
    {
      "cell_type": "code",
      "source": [
        "a=a.reshape(2,3)\n",
        "a"
      ],
      "metadata": {
        "colab": {
          "base_uri": "https://localhost:8080/"
        },
        "id": "ACXTNgnzxk1J",
        "outputId": "fb8b6b76-b379-4537-eb26-dd2840412266"
      },
      "execution_count": null,
      "outputs": [
        {
          "output_type": "execute_result",
          "data": {
            "text/plain": [
              "array([[88, 56, 45],\n",
              "       [34, 54, 34]])"
            ]
          },
          "metadata": {},
          "execution_count": 147
        }
      ]
    },
    {
      "cell_type": "code",
      "source": [
        "\"\"\"\n",
        "axis=0 - column wise operations\n",
        "axis=1 - row wise operations\n",
        "\n",
        "\"\"\""
      ],
      "metadata": {
        "id": "VgK8gYxGyXhG"
      },
      "execution_count": null,
      "outputs": []
    },
    {
      "cell_type": "code",
      "source": [
        "np.sort(a,axis=0)\n"
      ],
      "metadata": {
        "colab": {
          "base_uri": "https://localhost:8080/"
        },
        "id": "vq34zO4vyo9g",
        "outputId": "064d361e-23b0-4a3d-a04c-457e1f1f1251"
      },
      "execution_count": null,
      "outputs": [
        {
          "output_type": "execute_result",
          "data": {
            "text/plain": [
              "array([[34, 54, 34],\n",
              "       [88, 56, 45]])"
            ]
          },
          "metadata": {},
          "execution_count": 151
        }
      ]
    },
    {
      "cell_type": "code",
      "source": [
        "np.sort(a,axis=1)"
      ],
      "metadata": {
        "colab": {
          "base_uri": "https://localhost:8080/"
        },
        "id": "Qa7S__hey0qn",
        "outputId": "cd7301f5-18ed-4c6c-db8d-6788d9b3a9ef"
      },
      "execution_count": null,
      "outputs": [
        {
          "output_type": "execute_result",
          "data": {
            "text/plain": [
              "array([[45, 56, 88],\n",
              "       [34, 34, 54]])"
            ]
          },
          "metadata": {},
          "execution_count": 150
        }
      ]
    },
    {
      "cell_type": "code",
      "source": [
        "np.sort(a) #by default row wise sorting will take place\n"
      ],
      "metadata": {
        "colab": {
          "base_uri": "https://localhost:8080/"
        },
        "id": "eAwaMKxKzAhO",
        "outputId": "d404bcdc-e1a2-47c7-ed83-3958e9e19b35"
      },
      "execution_count": null,
      "outputs": [
        {
          "output_type": "execute_result",
          "data": {
            "text/plain": [
              "array([[45, 56, 88],\n",
              "       [34, 34, 54]])"
            ]
          },
          "metadata": {},
          "execution_count": 152
        }
      ]
    },
    {
      "cell_type": "code",
      "source": [
        "\n",
        "d=np.dtype([('name','S1'), ('perc', float)])\n",
        "\n",
        "marks=np.array([(\"ramu\",95.0), (\"hari\",75.4), (\"raju\", 98.3) ], dtype=d)\n",
        "marks"
      ],
      "metadata": {
        "colab": {
          "base_uri": "https://localhost:8080/"
        },
        "id": "RbSmAl84065w",
        "outputId": "3e765064-7535-43cb-c9b1-93b98fffb4a2"
      },
      "execution_count": null,
      "outputs": [
        {
          "output_type": "execute_result",
          "data": {
            "text/plain": [
              "array([(b'r', 95. ), (b'h', 75.4), (b'r', 98.3)],\n",
              "      dtype=[('name', 'S1'), ('perc', '<f8')])"
            ]
          },
          "metadata": {},
          "execution_count": 159
        }
      ]
    },
    {
      "cell_type": "code",
      "source": [
        "np.sort(marks,order=\"name\")"
      ],
      "metadata": {
        "colab": {
          "base_uri": "https://localhost:8080/"
        },
        "id": "oJCoL6bJ1IdC",
        "outputId": "65595372-4a73-4358-b439-474c231fa731"
      },
      "execution_count": null,
      "outputs": [
        {
          "output_type": "execute_result",
          "data": {
            "text/plain": [
              "array([(b'h', 75.4), (b'r', 95. ), (b'r', 98.3)],\n",
              "      dtype=[('name', 'S1'), ('perc', '<f8')])"
            ]
          },
          "metadata": {},
          "execution_count": 160
        }
      ]
    },
    {
      "cell_type": "code",
      "source": [
        "np.sort(marks,order=\"perc\")"
      ],
      "metadata": {
        "colab": {
          "base_uri": "https://localhost:8080/"
        },
        "id": "DwLy35Ey1RFE",
        "outputId": "d5cc16a3-4f8a-4011-c6e7-ad091b89ac65"
      },
      "execution_count": null,
      "outputs": [
        {
          "output_type": "execute_result",
          "data": {
            "text/plain": [
              "array([(b'h', 75.4), (b'r', 95. ), (b'r', 98.3)],\n",
              "      dtype=[('name', 'S1'), ('perc', '<f8')])"
            ]
          },
          "metadata": {},
          "execution_count": 161
        }
      ]
    },
    {
      "cell_type": "code",
      "source": [
        "#reshape"
      ],
      "metadata": {
        "id": "VB29U9kw2AoL"
      },
      "execution_count": null,
      "outputs": []
    },
    {
      "cell_type": "code",
      "source": [
        "a=np.arange(10,130,10)\n",
        "a"
      ],
      "metadata": {
        "colab": {
          "base_uri": "https://localhost:8080/"
        },
        "id": "AWprE7XD1Zik",
        "outputId": "bc19a678-61c1-44db-8f3a-74fb7d7ca9bf"
      },
      "execution_count": null,
      "outputs": [
        {
          "output_type": "execute_result",
          "data": {
            "text/plain": [
              "array([ 10,  20,  30,  40,  50,  60,  70,  80,  90, 100, 110, 120])"
            ]
          },
          "metadata": {},
          "execution_count": 162
        }
      ]
    },
    {
      "cell_type": "code",
      "source": [
        "a.reshape(3,4)"
      ],
      "metadata": {
        "colab": {
          "base_uri": "https://localhost:8080/"
        },
        "id": "YK87nMn_1srE",
        "outputId": "41953686-9bec-49d8-8d33-efc74ee2a640"
      },
      "execution_count": null,
      "outputs": [
        {
          "output_type": "execute_result",
          "data": {
            "text/plain": [
              "array([[ 10,  20,  30,  40],\n",
              "       [ 50,  60,  70,  80],\n",
              "       [ 90, 100, 110, 120]])"
            ]
          },
          "metadata": {},
          "execution_count": 164
        }
      ]
    },
    {
      "cell_type": "code",
      "source": [
        "#append()"
      ],
      "metadata": {
        "id": "QfpS-Daj1z7R"
      },
      "execution_count": null,
      "outputs": []
    },
    {
      "cell_type": "code",
      "source": [
        "a=np.array([10,20,30])\n",
        "a\n"
      ],
      "metadata": {
        "colab": {
          "base_uri": "https://localhost:8080/"
        },
        "id": "kTs4Wsh92EDS",
        "outputId": "70652bf3-4a97-4ea1-c9b2-b2c7461f2528"
      },
      "execution_count": null,
      "outputs": [
        {
          "output_type": "execute_result",
          "data": {
            "text/plain": [
              "array([10, 20, 30])"
            ]
          },
          "metadata": {},
          "execution_count": 167
        }
      ]
    },
    {
      "cell_type": "code",
      "source": [
        "b=np.array([40,50,60])\n",
        "b"
      ],
      "metadata": {
        "colab": {
          "base_uri": "https://localhost:8080/"
        },
        "id": "5dhcQ42p2hUu",
        "outputId": "4ca89faa-1a0e-4b3e-cf90-cce457d91372"
      },
      "execution_count": null,
      "outputs": [
        {
          "output_type": "execute_result",
          "data": {
            "text/plain": [
              "array([40, 50, 60])"
            ]
          },
          "metadata": {},
          "execution_count": 166
        }
      ]
    },
    {
      "cell_type": "code",
      "source": [
        "np.append(a,b).reshape(2,3)"
      ],
      "metadata": {
        "colab": {
          "base_uri": "https://localhost:8080/"
        },
        "id": "y9IPkWJj2lFZ",
        "outputId": "4ad34e92-a1a7-4621-c02f-b7e231ccf4c2"
      },
      "execution_count": null,
      "outputs": [
        {
          "output_type": "execute_result",
          "data": {
            "text/plain": [
              "array([[10, 20, 30],\n",
              "       [40, 50, 60]])"
            ]
          },
          "metadata": {},
          "execution_count": 174
        }
      ]
    },
    {
      "cell_type": "code",
      "source": [
        "#insert\n",
        "np.insert(a,3,35)"
      ],
      "metadata": {
        "colab": {
          "base_uri": "https://localhost:8080/"
        },
        "id": "5wgJ2S2m2o7H",
        "outputId": "7380a3d6-1838-40b0-f2d0-3a75b370cc7a"
      },
      "execution_count": null,
      "outputs": [
        {
          "output_type": "execute_result",
          "data": {
            "text/plain": [
              "array([10, 20, 30, 35])"
            ]
          },
          "metadata": {},
          "execution_count": 175
        }
      ]
    },
    {
      "cell_type": "code",
      "source": [
        "#when we have multiple elements\n",
        "np.insert(a,3,[66,88,67,12])"
      ],
      "metadata": {
        "colab": {
          "base_uri": "https://localhost:8080/"
        },
        "id": "eIacxfsk-w9R",
        "outputId": "1ca4f0dc-9884-421d-a196-71d7a3770413"
      },
      "execution_count": null,
      "outputs": [
        {
          "output_type": "execute_result",
          "data": {
            "text/plain": [
              "array([10, 20, 30, 66, 88, 67, 12])"
            ]
          },
          "metadata": {},
          "execution_count": 181
        }
      ]
    },
    {
      "cell_type": "code",
      "source": [
        "#can also re-shape\n",
        "np.insert(a,3,[66,88,67,12]).reshape(7,1)"
      ],
      "metadata": {
        "colab": {
          "base_uri": "https://localhost:8080/"
        },
        "id": "h-MDvF3K_WBP",
        "outputId": "6b2fbb85-a7fb-43f7-c5ed-74c015a11675"
      },
      "execution_count": null,
      "outputs": [
        {
          "output_type": "execute_result",
          "data": {
            "text/plain": [
              "array([[10],\n",
              "       [20],\n",
              "       [30],\n",
              "       [66],\n",
              "       [88],\n",
              "       [67],\n",
              "       [12]])"
            ]
          },
          "metadata": {},
          "execution_count": 182
        }
      ]
    },
    {
      "cell_type": "code",
      "source": [
        "#delete\n",
        "np.delete(a,2)"
      ],
      "metadata": {
        "colab": {
          "base_uri": "https://localhost:8080/"
        },
        "id": "zlWiQSXZ_hbD",
        "outputId": "6c01e12b-a4a6-415b-9059-9a0b83d84b8a"
      },
      "execution_count": null,
      "outputs": [
        {
          "output_type": "execute_result",
          "data": {
            "text/plain": [
              "array([10, 20])"
            ]
          },
          "metadata": {},
          "execution_count": 183
        }
      ]
    },
    {
      "cell_type": "code",
      "source": [
        "#concatenate\n",
        "np.concatenate((a,x),axis=0)"
      ],
      "metadata": {
        "colab": {
          "base_uri": "https://localhost:8080/"
        },
        "id": "e9E3U3fe_sjw",
        "outputId": "71a73f9a-8820-4cbf-cdac-c0a8aa729171"
      },
      "execution_count": null,
      "outputs": [
        {
          "output_type": "execute_result",
          "data": {
            "text/plain": [
              "array([10, 20, 30,  0,  5, 10, 15, 20, 25, 30, 35, 40, 45, 50, 55, 60, 65,\n",
              "       70, 75, 80, 85, 90, 95])"
            ]
          },
          "metadata": {},
          "execution_count": 188
        }
      ]
    },
    {
      "cell_type": "code",
      "source": [
        "#stack\n",
        "np.stack((a,b))"
      ],
      "metadata": {
        "colab": {
          "base_uri": "https://localhost:8080/"
        },
        "id": "62--kfgV__-1",
        "outputId": "4c092c94-38bc-4a32-dd5e-68cf8dae7e8b"
      },
      "execution_count": null,
      "outputs": [
        {
          "output_type": "execute_result",
          "data": {
            "text/plain": [
              "array([[10, 20, 30],\n",
              "       [40, 50, 60]])"
            ]
          },
          "metadata": {},
          "execution_count": 190
        }
      ]
    },
    {
      "cell_type": "code",
      "source": [
        "np.stack((a,b),axis=1)"
      ],
      "metadata": {
        "colab": {
          "base_uri": "https://localhost:8080/"
        },
        "id": "45C9IgM2ASyB",
        "outputId": "2c2d5b73-0189-4673-999c-b81fbfec0ee6"
      },
      "execution_count": null,
      "outputs": [
        {
          "output_type": "execute_result",
          "data": {
            "text/plain": [
              "array([[10, 40],\n",
              "       [20, 50],\n",
              "       [30, 60]])"
            ]
          },
          "metadata": {},
          "execution_count": 191
        }
      ]
    },
    {
      "cell_type": "code",
      "source": [
        "np.stack((a,b),axis=0)"
      ],
      "metadata": {
        "colab": {
          "base_uri": "https://localhost:8080/"
        },
        "id": "KdLG0Px1C5zZ",
        "outputId": "9c83f7db-b067-4d97-f3c4-2561561f0717"
      },
      "execution_count": null,
      "outputs": [
        {
          "output_type": "execute_result",
          "data": {
            "text/plain": [
              "array([[10, 20, 30],\n",
              "       [40, 50, 60]])"
            ]
          },
          "metadata": {},
          "execution_count": 192
        }
      ]
    },
    {
      "cell_type": "code",
      "source": [
        "np.vstack((a,b)) #vertical concatenation"
      ],
      "metadata": {
        "colab": {
          "base_uri": "https://localhost:8080/"
        },
        "id": "J5oKmqMSC9G6",
        "outputId": "5fd74861-d9df-48bc-a644-3c8e84034168"
      },
      "execution_count": null,
      "outputs": [
        {
          "output_type": "execute_result",
          "data": {
            "text/plain": [
              "array([[10, 20, 30],\n",
              "       [40, 50, 60]])"
            ]
          },
          "metadata": {},
          "execution_count": 193
        }
      ]
    },
    {
      "cell_type": "code",
      "source": [
        "np.hstack((a,b)) #horizontal concatenation"
      ],
      "metadata": {
        "colab": {
          "base_uri": "https://localhost:8080/"
        },
        "id": "Gi0SUq9fDFzQ",
        "outputId": "a2ee9760-5e70-497a-da60-40c1e0931b91"
      },
      "execution_count": null,
      "outputs": [
        {
          "output_type": "execute_result",
          "data": {
            "text/plain": [
              "array([10, 20, 30, 40, 50, 60])"
            ]
          },
          "metadata": {},
          "execution_count": 194
        }
      ]
    },
    {
      "cell_type": "code",
      "source": [
        "np.concatenate((a,b))"
      ],
      "metadata": {
        "colab": {
          "base_uri": "https://localhost:8080/"
        },
        "id": "5NelGay7DTop",
        "outputId": "beacb6ca-805a-49a4-d6bd-36bacc2f8be2"
      },
      "execution_count": null,
      "outputs": [
        {
          "output_type": "execute_result",
          "data": {
            "text/plain": [
              "array([10, 20, 30, 40, 50, 60])"
            ]
          },
          "metadata": {},
          "execution_count": 195
        }
      ]
    },
    {
      "cell_type": "code",
      "source": [
        "np.dstack((a,b))\n",
        "#first elements forms one row\n",
        "#second element forms one row"
      ],
      "metadata": {
        "colab": {
          "base_uri": "https://localhost:8080/"
        },
        "id": "SPhls0VKDauY",
        "outputId": "317467ac-47e7-4913-b8bb-1a287bb7b0af"
      },
      "execution_count": null,
      "outputs": [
        {
          "output_type": "execute_result",
          "data": {
            "text/plain": [
              "array([[[10, 40],\n",
              "        [20, 50],\n",
              "        [30, 60]]])"
            ]
          },
          "metadata": {},
          "execution_count": 197
        }
      ]
    },
    {
      "cell_type": "code",
      "source": [
        "v=np.arange(10,180,5)\n",
        "v"
      ],
      "metadata": {
        "colab": {
          "base_uri": "https://localhost:8080/"
        },
        "id": "B3H8aEBJDt3q",
        "outputId": "7295b586-4155-43af-a482-ea940a8a4881"
      },
      "execution_count": null,
      "outputs": [
        {
          "output_type": "execute_result",
          "data": {
            "text/plain": [
              "array([ 10,  15,  20,  25,  30,  35,  40,  45,  50,  55,  60,  65,  70,\n",
              "        75,  80,  85,  90,  95, 100, 105, 110, 115, 120, 125, 130, 135,\n",
              "       140, 145, 150, 155, 160, 165, 170, 175])"
            ]
          },
          "metadata": {},
          "execution_count": 203
        }
      ]
    },
    {
      "cell_type": "code",
      "source": [
        "np.split(v,2) #equal division"
      ],
      "metadata": {
        "colab": {
          "base_uri": "https://localhost:8080/"
        },
        "id": "m_azNTLOEOYq",
        "outputId": "6b1fccc7-2c00-41d9-9f0b-919c6eda4e30"
      },
      "execution_count": null,
      "outputs": [
        {
          "output_type": "execute_result",
          "data": {
            "text/plain": [
              "[array([10, 15, 20, 25, 30, 35, 40, 45, 50, 55, 60, 65, 70, 75, 80, 85, 90]),\n",
              " array([ 95, 100, 105, 110, 115, 120, 125, 130, 135, 140, 145, 150, 155,\n",
              "        160, 165, 170, 175])]"
            ]
          },
          "metadata": {},
          "execution_count": 205
        }
      ]
    },
    {
      "cell_type": "code",
      "source": [
        "#multiple assignmensts\n",
        "s1,s2=np.split(v,2)"
      ],
      "metadata": {
        "id": "KsUZ5_qcEX0M"
      },
      "execution_count": null,
      "outputs": []
    },
    {
      "cell_type": "code",
      "source": [
        "s1"
      ],
      "metadata": {
        "colab": {
          "base_uri": "https://localhost:8080/"
        },
        "id": "JnM1hE3FEp5B",
        "outputId": "3bdaca46-5405-4666-cbf5-45955f4ffca6"
      },
      "execution_count": null,
      "outputs": [
        {
          "output_type": "execute_result",
          "data": {
            "text/plain": [
              "array([10, 15, 20, 25, 30, 35, 40, 45, 50, 55, 60, 65, 70, 75, 80, 85, 90])"
            ]
          },
          "metadata": {},
          "execution_count": 207
        }
      ]
    },
    {
      "cell_type": "code",
      "source": [
        "s2"
      ],
      "metadata": {
        "colab": {
          "base_uri": "https://localhost:8080/"
        },
        "id": "0pLZHlgqErJN",
        "outputId": "b13e5f32-52d7-4b64-915a-f42433ba294d"
      },
      "execution_count": null,
      "outputs": [
        {
          "output_type": "execute_result",
          "data": {
            "text/plain": [
              "array([ 95, 100, 105, 110, 115, 120, 125, 130, 135, 140, 145, 150, 155,\n",
              "       160, 165, 170, 175])"
            ]
          },
          "metadata": {},
          "execution_count": 208
        }
      ]
    },
    {
      "cell_type": "code",
      "source": [
        "#TIP\n",
        "\n",
        "#can do this on a dimension also"
      ],
      "metadata": {
        "id": "9BRZgkTDEyhz"
      },
      "execution_count": null,
      "outputs": []
    },
    {
      "cell_type": "code",
      "source": [
        "#WHERE--able to check elements\n",
        "s=np.arange(10,130,10).reshape(4,3)\n",
        "\n"
      ],
      "metadata": {
        "id": "kxGMnaAXE89-"
      },
      "execution_count": null,
      "outputs": []
    },
    {
      "cell_type": "code",
      "source": [
        "s"
      ],
      "metadata": {
        "colab": {
          "base_uri": "https://localhost:8080/"
        },
        "id": "dbFnk6NoFYuD",
        "outputId": "305b56c8-ca82-4269-ce2c-56de690f86d5"
      },
      "execution_count": null,
      "outputs": [
        {
          "output_type": "execute_result",
          "data": {
            "text/plain": [
              "array([[ 10,  20,  30],\n",
              "       [ 40,  50,  60],\n",
              "       [ 70,  80,  90],\n",
              "       [100, 110, 120]])"
            ]
          },
          "metadata": {},
          "execution_count": 210
        }
      ]
    },
    {
      "cell_type": "code",
      "source": [
        "np.where(s==80)\n"
      ],
      "metadata": {
        "colab": {
          "base_uri": "https://localhost:8080/"
        },
        "id": "1SAhg5wVFZ9J",
        "outputId": "167f54ab-6fe7-4183-e110-b9f51d315a7b"
      },
      "execution_count": null,
      "outputs": [
        {
          "output_type": "execute_result",
          "data": {
            "text/plain": [
              "(array([2]), array([1]))"
            ]
          },
          "metadata": {},
          "execution_count": 211
        }
      ]
    },
    {
      "cell_type": "code",
      "source": [
        "np.where(s%20==0)"
      ],
      "metadata": {
        "colab": {
          "base_uri": "https://localhost:8080/"
        },
        "id": "nG9KBqrkFffH",
        "outputId": "3281fe64-7fc3-4cd3-cf5a-e122eda2897f"
      },
      "execution_count": null,
      "outputs": [
        {
          "output_type": "execute_result",
          "data": {
            "text/plain": [
              "(array([0, 1, 1, 2, 3, 3]), array([1, 0, 2, 1, 0, 2]))"
            ]
          },
          "metadata": {},
          "execution_count": 214
        }
      ]
    },
    {
      "cell_type": "code",
      "source": [
        "a=np.array([10,20,30,40,50,60])"
      ],
      "metadata": {
        "id": "ML32FbVHFyMZ"
      },
      "execution_count": null,
      "outputs": []
    },
    {
      "cell_type": "code",
      "source": [
        "np.searchsorted(a,40)"
      ],
      "metadata": {
        "colab": {
          "base_uri": "https://localhost:8080/"
        },
        "id": "9ow2CpBHF9we",
        "outputId": "2e11c82d-1793-4fcc-f642-0a17d9c1b09d"
      },
      "execution_count": null,
      "outputs": [
        {
          "output_type": "execute_result",
          "data": {
            "text/plain": [
              "3"
            ]
          },
          "metadata": {},
          "execution_count": 216
        }
      ]
    },
    {
      "cell_type": "code",
      "source": [
        "np.searchsorted(a,[40,70,50])"
      ],
      "metadata": {
        "colab": {
          "base_uri": "https://localhost:8080/"
        },
        "id": "-DgwtF4dGCyt",
        "outputId": "fee68f45-47dc-4cf2-8016-cde464357d8e"
      },
      "execution_count": null,
      "outputs": [
        {
          "output_type": "execute_result",
          "data": {
            "text/plain": [
              "array([3, 6, 4])"
            ]
          },
          "metadata": {},
          "execution_count": 217
        }
      ]
    },
    {
      "cell_type": "code",
      "source": [],
      "metadata": {
        "id": "3JQ6cSuuGLL7"
      },
      "execution_count": null,
      "outputs": []
    },
    {
      "cell_type": "markdown",
      "source": [
        "ARITHMETIC OPERATIONS\n",
        "\n",
        "add( )\n",
        "substract( )\n",
        "\n",
        "Multiply( )\n",
        "Divide( )\n",
        "\n",
        "Exp( )\n",
        "Sqrt( )\n",
        "\n",
        "\n",
        "Comparision\n"
      ],
      "metadata": {
        "id": "jaDTBrxDGN7O"
      }
    },
    {
      "cell_type": "code",
      "source": [
        "#to perform above all operations equal dimensions are needed\n",
        "#otherwise leads to error"
      ],
      "metadata": {
        "id": "jZrepcdRHBjU"
      },
      "execution_count": null,
      "outputs": []
    },
    {
      "cell_type": "code",
      "source": [
        "a=np.array([[10,20,30],[40,50,60]])\n",
        "b=np.array([[69,89,99],[101,102,102]])"
      ],
      "metadata": {
        "id": "G_DdKTPMGTeg"
      },
      "execution_count": null,
      "outputs": []
    },
    {
      "cell_type": "code",
      "source": [
        "a"
      ],
      "metadata": {
        "colab": {
          "base_uri": "https://localhost:8080/"
        },
        "id": "Yuwej00yGzp8",
        "outputId": "7a0441d6-90d2-4783-9cfd-a5090d01f58c"
      },
      "execution_count": null,
      "outputs": [
        {
          "output_type": "execute_result",
          "data": {
            "text/plain": [
              "array([[10, 20, 30],\n",
              "       [40, 50, 60]])"
            ]
          },
          "metadata": {},
          "execution_count": 220
        }
      ]
    },
    {
      "cell_type": "code",
      "source": [
        "b"
      ],
      "metadata": {
        "colab": {
          "base_uri": "https://localhost:8080/"
        },
        "id": "dgDdk4YJG0wA",
        "outputId": "1c164982-23e8-4fc2-b4a0-b24ad055902c"
      },
      "execution_count": null,
      "outputs": [
        {
          "output_type": "execute_result",
          "data": {
            "text/plain": [
              "array([[ 69,  89,  99],\n",
              "       [101, 102, 102]])"
            ]
          },
          "metadata": {},
          "execution_count": 221
        }
      ]
    },
    {
      "cell_type": "code",
      "source": [
        "#add\n",
        "np.add(a,b)"
      ],
      "metadata": {
        "colab": {
          "base_uri": "https://localhost:8080/"
        },
        "id": "EXHUVw4eG1wD",
        "outputId": "15002e3d-65e6-4672-ecc9-c04022fd0547"
      },
      "execution_count": null,
      "outputs": [
        {
          "output_type": "execute_result",
          "data": {
            "text/plain": [
              "array([[ 79, 109, 129],\n",
              "       [141, 152, 162]])"
            ]
          },
          "metadata": {},
          "execution_count": 222
        }
      ]
    },
    {
      "cell_type": "code",
      "source": [
        "np.subtract(a,b) #subract"
      ],
      "metadata": {
        "colab": {
          "base_uri": "https://localhost:8080/"
        },
        "id": "-uO4mGJUG9kc",
        "outputId": "e4c238ba-fec3-4c4e-af45-5c3144c80098"
      },
      "execution_count": null,
      "outputs": [
        {
          "output_type": "execute_result",
          "data": {
            "text/plain": [
              "array([[-59, -69, -69],\n",
              "       [-61, -52, -42]])"
            ]
          },
          "metadata": {},
          "execution_count": 223
        }
      ]
    },
    {
      "cell_type": "code",
      "source": [
        "np.multiply(a,b)"
      ],
      "metadata": {
        "colab": {
          "base_uri": "https://localhost:8080/"
        },
        "id": "PsXVsg7wHSWC",
        "outputId": "ea5d301a-3918-4b96-d7f8-8a491d18ceb9"
      },
      "execution_count": null,
      "outputs": [
        {
          "output_type": "execute_result",
          "data": {
            "text/plain": [
              "array([[ 690, 1780, 2970],\n",
              "       [4040, 5100, 6120]])"
            ]
          },
          "metadata": {},
          "execution_count": 224
        }
      ]
    },
    {
      "cell_type": "code",
      "source": [
        "np.divide(a,b)"
      ],
      "metadata": {
        "colab": {
          "base_uri": "https://localhost:8080/"
        },
        "id": "SfZKh3GRHbGP",
        "outputId": "6698d7f5-1c7c-4c57-8780-f8573c932aa6"
      },
      "execution_count": null,
      "outputs": [
        {
          "output_type": "execute_result",
          "data": {
            "text/plain": [
              "array([[0.14492754, 0.2247191 , 0.3030303 ],\n",
              "       [0.3960396 , 0.49019608, 0.58823529]])"
            ]
          },
          "metadata": {},
          "execution_count": 226
        }
      ]
    },
    {
      "cell_type": "code",
      "source": [
        "#exponension takes single argument"
      ],
      "metadata": {
        "id": "J68BG_nKHvhZ"
      },
      "execution_count": null,
      "outputs": []
    },
    {
      "cell_type": "code",
      "source": [
        "np.exp(a)"
      ],
      "metadata": {
        "colab": {
          "base_uri": "https://localhost:8080/"
        },
        "id": "mht_BHFHHh5R",
        "outputId": "7852fe6e-2e06-4fa4-f9a6-908c89e36654"
      },
      "execution_count": null,
      "outputs": [
        {
          "output_type": "execute_result",
          "data": {
            "text/plain": [
              "array([[2.20264658e+04, 4.85165195e+08, 1.06864746e+13],\n",
              "       [2.35385267e+17, 5.18470553e+21, 1.14200739e+26]])"
            ]
          },
          "metadata": {},
          "execution_count": 228
        }
      ]
    },
    {
      "cell_type": "code",
      "source": [
        "np.exp(b)"
      ],
      "metadata": {
        "colab": {
          "base_uri": "https://localhost:8080/"
        },
        "id": "bYTdTPLZHsTL",
        "outputId": "3d1a5c90-157e-4111-a1b3-4b349b7a05e8"
      },
      "execution_count": null,
      "outputs": [
        {
          "output_type": "execute_result",
          "data": {
            "text/plain": [
              "array([[9.25378173e+29, 4.48961282e+38, 9.88903032e+42],\n",
              "       [7.30705998e+43, 1.98626484e+44, 1.98626484e+44]])"
            ]
          },
          "metadata": {},
          "execution_count": 229
        }
      ]
    },
    {
      "cell_type": "code",
      "source": [
        "np.sqrt(a)"
      ],
      "metadata": {
        "colab": {
          "base_uri": "https://localhost:8080/"
        },
        "id": "Uo7qUhkDH0Mw",
        "outputId": "e42f09a7-2154-46ab-b8a9-8a37a64869a6"
      },
      "execution_count": null,
      "outputs": [
        {
          "output_type": "execute_result",
          "data": {
            "text/plain": [
              "array([[3.16227766, 4.47213595, 5.47722558],\n",
              "       [6.32455532, 7.07106781, 7.74596669]])"
            ]
          },
          "metadata": {},
          "execution_count": 230
        }
      ]
    },
    {
      "cell_type": "code",
      "source": [
        "np.sqrt(b)"
      ],
      "metadata": {
        "colab": {
          "base_uri": "https://localhost:8080/"
        },
        "id": "qx0YDoPJH4WD",
        "outputId": "abb77966-35c2-47f1-b15d-6f6b8f355f04"
      },
      "execution_count": null,
      "outputs": [
        {
          "output_type": "execute_result",
          "data": {
            "text/plain": [
              "array([[ 8.30662386,  9.43398113,  9.94987437],\n",
              "       [10.04987562, 10.09950494, 10.09950494]])"
            ]
          },
          "metadata": {},
          "execution_count": 231
        }
      ]
    },
    {
      "cell_type": "code",
      "source": [
        "np.array_equal(a,b) #array wise comparision"
      ],
      "metadata": {
        "colab": {
          "base_uri": "https://localhost:8080/"
        },
        "id": "WH2JtTmIH7_C",
        "outputId": "7271c2eb-e105-41b4-aa98-103c970ca7b4"
      },
      "execution_count": null,
      "outputs": [
        {
          "output_type": "execute_result",
          "data": {
            "text/plain": [
              "False"
            ]
          },
          "metadata": {},
          "execution_count": 232
        }
      ]
    },
    {
      "cell_type": "code",
      "source": [
        "a==b #element wise comparision"
      ],
      "metadata": {
        "colab": {
          "base_uri": "https://localhost:8080/"
        },
        "id": "_NPB7aBFIL4N",
        "outputId": "ddb988e8-8151-4b54-d5bf-35a4ba2e0c9d"
      },
      "execution_count": null,
      "outputs": [
        {
          "output_type": "execute_result",
          "data": {
            "text/plain": [
              "array([[False, False, False],\n",
              "       [False, False, False]])"
            ]
          },
          "metadata": {},
          "execution_count": 233
        }
      ]
    },
    {
      "cell_type": "markdown",
      "source": [
        "ARRAY FUNCTIONS\n",
        "\n",
        "\n",
        "sum()\n",
        "\n",
        "min()\n",
        "\n",
        "max()\n",
        "mean()\n",
        "\n",
        "Array Functions\n",
        "\n",
        "median(\n",
        "\n",
        "var()\n",
        "\n",
        "std()"
      ],
      "metadata": {
        "id": "FeeoiQOvId_h"
      }
    },
    {
      "cell_type": "code",
      "source": [
        "#from all these functions we can perform\n",
        "#axis based on the requirement\n",
        "#0=column\n",
        "#1=row"
      ],
      "metadata": {
        "id": "DMbU7hxdJh8Q"
      },
      "execution_count": null,
      "outputs": []
    },
    {
      "cell_type": "code",
      "source": [
        "np.min(a)"
      ],
      "metadata": {
        "colab": {
          "base_uri": "https://localhost:8080/"
        },
        "id": "NUV3VOM3IfYG",
        "outputId": "075b7792-2720-4be5-8dbe-32b3bbfbf2c3"
      },
      "execution_count": null,
      "outputs": [
        {
          "output_type": "execute_result",
          "data": {
            "text/plain": [
              "10"
            ]
          },
          "metadata": {},
          "execution_count": 234
        }
      ]
    },
    {
      "cell_type": "code",
      "source": [
        "np.min(a,axis=1)"
      ],
      "metadata": {
        "colab": {
          "base_uri": "https://localhost:8080/"
        },
        "id": "HWwS91C_Iy4B",
        "outputId": "56eec0ad-5e96-4f18-b7e4-1da747795072"
      },
      "execution_count": null,
      "outputs": [
        {
          "output_type": "execute_result",
          "data": {
            "text/plain": [
              "array([10, 40])"
            ]
          },
          "metadata": {},
          "execution_count": 235
        }
      ]
    },
    {
      "cell_type": "code",
      "source": [
        "np.min(a,axis=0)"
      ],
      "metadata": {
        "colab": {
          "base_uri": "https://localhost:8080/"
        },
        "id": "PWKjjOqWI3w6",
        "outputId": "9529b995-fbc3-4a12-ac1b-6f8daead7d9e"
      },
      "execution_count": null,
      "outputs": [
        {
          "output_type": "execute_result",
          "data": {
            "text/plain": [
              "array([10, 20, 30])"
            ]
          },
          "metadata": {},
          "execution_count": 236
        }
      ]
    },
    {
      "cell_type": "code",
      "source": [
        "np.sum(a)"
      ],
      "metadata": {
        "colab": {
          "base_uri": "https://localhost:8080/"
        },
        "id": "wfyF1wU9I9a1",
        "outputId": "50aaaa8f-f6f6-4a8c-f0b7-fab2818b828f"
      },
      "execution_count": null,
      "outputs": [
        {
          "output_type": "execute_result",
          "data": {
            "text/plain": [
              "210"
            ]
          },
          "metadata": {},
          "execution_count": 238
        }
      ]
    },
    {
      "cell_type": "code",
      "source": [
        "np.sum(a,axis=1)"
      ],
      "metadata": {
        "colab": {
          "base_uri": "https://localhost:8080/"
        },
        "id": "pEaCktRnJDd9",
        "outputId": "1e2123d1-3592-4eac-a79d-43c771c8a41c"
      },
      "execution_count": null,
      "outputs": [
        {
          "output_type": "execute_result",
          "data": {
            "text/plain": [
              "array([ 60, 150])"
            ]
          },
          "metadata": {},
          "execution_count": 239
        }
      ]
    },
    {
      "cell_type": "code",
      "source": [
        "np.mean(a)"
      ],
      "metadata": {
        "colab": {
          "base_uri": "https://localhost:8080/"
        },
        "id": "-ljF-NYcJHmy",
        "outputId": "44f482aa-eb5b-4857-c004-5514b07bdd56"
      },
      "execution_count": null,
      "outputs": [
        {
          "output_type": "execute_result",
          "data": {
            "text/plain": [
              "35.0"
            ]
          },
          "metadata": {},
          "execution_count": 240
        }
      ]
    },
    {
      "cell_type": "code",
      "source": [
        "np.median(a)"
      ],
      "metadata": {
        "colab": {
          "base_uri": "https://localhost:8080/"
        },
        "id": "xYdmsY16JMFg",
        "outputId": "24f6872c-27b1-4649-e52b-65274f8a99f7"
      },
      "execution_count": null,
      "outputs": [
        {
          "output_type": "execute_result",
          "data": {
            "text/plain": [
              "35.0"
            ]
          },
          "metadata": {},
          "execution_count": 241
        }
      ]
    },
    {
      "cell_type": "code",
      "source": [
        "np.var(a)"
      ],
      "metadata": {
        "colab": {
          "base_uri": "https://localhost:8080/"
        },
        "id": "5N9jsYc0JQQX",
        "outputId": "c9b7b8d4-cb57-4835-e29e-c86a1530ae78"
      },
      "execution_count": null,
      "outputs": [
        {
          "output_type": "execute_result",
          "data": {
            "text/plain": [
              "291.6666666666667"
            ]
          },
          "metadata": {},
          "execution_count": 242
        }
      ]
    },
    {
      "cell_type": "code",
      "source": [
        "np.std(a)"
      ],
      "metadata": {
        "colab": {
          "base_uri": "https://localhost:8080/"
        },
        "id": "C_oi2aVcJW8W",
        "outputId": "4e80e51c-474d-40b9-f05d-817cbde129a0"
      },
      "execution_count": null,
      "outputs": [
        {
          "output_type": "execute_result",
          "data": {
            "text/plain": [
              "17.07825127659933"
            ]
          },
          "metadata": {},
          "execution_count": 243
        }
      ]
    },
    {
      "cell_type": "code",
      "source": [],
      "metadata": {
        "id": "9BUAutunJZv6"
      },
      "execution_count": null,
      "outputs": []
    }
  ]
}