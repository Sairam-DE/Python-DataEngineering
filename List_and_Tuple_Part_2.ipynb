{
  "nbformat": 4,
  "nbformat_minor": 0,
  "metadata": {
    "colab": {
      "provenance": [],
      "authorship_tag": "ABX9TyPNgND4bZhLlkvLus2iwSc3",
      "include_colab_link": true
    },
    "kernelspec": {
      "name": "python3",
      "display_name": "Python 3"
    },
    "language_info": {
      "name": "python"
    }
  },
  "cells": [
    {
      "cell_type": "markdown",
      "metadata": {
        "id": "view-in-github",
        "colab_type": "text"
      },
      "source": [
        "<a href=\"https://colab.research.google.com/github/Sairam-DE/Python-DataEngineering/blob/main/List_and_Tuple_Part_2.ipynb\" target=\"_parent\"><img src=\"https://colab.research.google.com/assets/colab-badge.svg\" alt=\"Open In Colab\"/></a>"
      ]
    },
    {
      "cell_type": "code",
      "execution_count": null,
      "metadata": {
        "colab": {
          "base_uri": "https://localhost:8080/"
        },
        "id": "k-qzv93JG2R2",
        "outputId": "5f204069-048f-46a9-94ce-8008d39822bb"
      },
      "outputs": [
        {
          "output_type": "stream",
          "name": "stdout",
          "text": [
            "[118.0, 103.84, 114.46000000000001, 89.68, 106.2, 51.92]\n"
          ]
        }
      ],
      "source": [
        "#create new list after some transformations\n",
        "\n",
        "prices_mv = [100, 88, 97, 76, 90, 44]\n",
        "gst_prices = []\n",
        "for x in prices_mv:\n",
        "  gst_prices.append(x+x*18/100)\n",
        "print(gst_prices)"
      ]
    },
    {
      "cell_type": "code",
      "source": [
        "#List Comprehension\n",
        "#list comprehension it is nothing but like a syntactic sugar you write less code\n",
        "#and get the same things done, that's the beauty of it\n",
        "\n",
        "prices_mv = [100, 88, 97, 76, 90, 44]\n",
        "gst_prices = [x+x*18/100 for x in prices_mv]\n",
        "print(gst_prices)\n",
        "\n"
      ],
      "metadata": {
        "colab": {
          "base_uri": "https://localhost:8080/"
        },
        "id": "mQMgmsDyIYel",
        "outputId": "24ceb396-1dd8-466c-cb52-5b6ba3a7f6b6"
      },
      "execution_count": null,
      "outputs": [
        {
          "output_type": "stream",
          "name": "stdout",
          "text": [
            "[118.0, 103.84, 114.46000000000001, 89.68, 106.2, 51.92]\n"
          ]
        }
      ]
    },
    {
      "cell_type": "code",
      "source": [
        "#when we have different amounts to be added rather than static\n",
        "ec_bonds = [(236, 18), (76, 89), (888, 90), (777, 2)]\n",
        "ecbonds_new = []\n",
        "for x in ec_bonds:\n",
        "  ecbonds_new.append(x[0] + x*x[1]/100)\n",
        "print(ecbonds_new)\n",
        "\n"
      ],
      "metadata": {
        "colab": {
          "base_uri": "https://localhost:8080/",
          "height": 211
        },
        "id": "ZDk04u-mJL0h",
        "outputId": "97b2cc98-2480-4092-c1c7-ae0b7b39b362"
      },
      "execution_count": null,
      "outputs": [
        {
          "output_type": "error",
          "ename": "TypeError",
          "evalue": "unsupported operand type(s) for /: 'tuple' and 'int'",
          "traceback": [
            "\u001b[0;31m---------------------------------------------------------------------------\u001b[0m",
            "\u001b[0;31mTypeError\u001b[0m                                 Traceback (most recent call last)",
            "\u001b[0;32m<ipython-input-8-8815fef7c67d>\u001b[0m in \u001b[0;36m<cell line: 4>\u001b[0;34m()\u001b[0m\n\u001b[1;32m      3\u001b[0m \u001b[0mecbonds_new\u001b[0m \u001b[0;34m=\u001b[0m \u001b[0;34m[\u001b[0m\u001b[0;34m]\u001b[0m\u001b[0;34m\u001b[0m\u001b[0;34m\u001b[0m\u001b[0m\n\u001b[1;32m      4\u001b[0m \u001b[0;32mfor\u001b[0m \u001b[0mx\u001b[0m \u001b[0;32min\u001b[0m \u001b[0mec_bonds\u001b[0m\u001b[0;34m:\u001b[0m\u001b[0;34m\u001b[0m\u001b[0;34m\u001b[0m\u001b[0m\n\u001b[0;32m----> 5\u001b[0;31m   \u001b[0mecbonds_new\u001b[0m\u001b[0;34m.\u001b[0m\u001b[0mappend\u001b[0m\u001b[0;34m[\u001b[0m\u001b[0;34m(\u001b[0m\u001b[0mx\u001b[0m\u001b[0;34m[\u001b[0m\u001b[0;36m0\u001b[0m\u001b[0;34m]\u001b[0m \u001b[0;34m+\u001b[0m \u001b[0mx\u001b[0m\u001b[0;34m*\u001b[0m\u001b[0mx\u001b[0m\u001b[0;34m[\u001b[0m\u001b[0;36m1\u001b[0m\u001b[0;34m]\u001b[0m\u001b[0;34m/\u001b[0m\u001b[0;36m100\u001b[0m\u001b[0;34m)\u001b[0m\u001b[0;34m]\u001b[0m\u001b[0;34m\u001b[0m\u001b[0;34m\u001b[0m\u001b[0m\n\u001b[0m\u001b[1;32m      6\u001b[0m \u001b[0mprint\u001b[0m\u001b[0;34m(\u001b[0m\u001b[0mecbonds_new\u001b[0m\u001b[0;34m)\u001b[0m\u001b[0;34m\u001b[0m\u001b[0;34m\u001b[0m\u001b[0m\n\u001b[1;32m      7\u001b[0m \u001b[0;34m\u001b[0m\u001b[0m\n",
            "\u001b[0;31mTypeError\u001b[0m: unsupported operand type(s) for /: 'tuple' and 'int'"
          ]
        }
      ]
    },
    {
      "cell_type": "code",
      "source": [
        "#now by using list comprehension\n",
        "ec_bonds = [(100,18), (236, 18), (76, 89), (888, 90), (777, 2)]\n",
        "ecbonds_new = [x[0] + x[0]*x[1]/100 for x in ec_bonds]\n",
        "print(ecbonds_new)\n",
        "\n"
      ],
      "metadata": {
        "colab": {
          "base_uri": "https://localhost:8080/"
        },
        "id": "so7cy9N8LZaf",
        "outputId": "a9e0289a-d5f8-4ee9-8dba-ea14928a206b"
      },
      "execution_count": null,
      "outputs": [
        {
          "output_type": "stream",
          "name": "stdout",
          "text": [
            "[118.0, 278.48, 143.64, 1687.2, 792.54]\n"
          ]
        }
      ]
    },
    {
      "cell_type": "code",
      "source": [
        "#when we need answer as [ (100, 18, 118),  (236,18,278.48)....]\n",
        "#so we can write code like this\n",
        "\n",
        "ec_bonds = [(100,18), (236, 18), (76, 89), (888, 90), (777, 2)]\n",
        "ecbonds_new = [(x[0], x[1], x[0] + x[0]*x[1]/100) for x in ec_bonds]\n",
        "print(ecbonds_new)"
      ],
      "metadata": {
        "colab": {
          "base_uri": "https://localhost:8080/"
        },
        "id": "5Ijbs6gvNWji",
        "outputId": "c916a66e-8c77-4acf-eedf-8e0bf1e485f1"
      },
      "execution_count": null,
      "outputs": [
        {
          "output_type": "stream",
          "name": "stdout",
          "text": [
            "[(100, 18, 118.0), (236, 18, 278.48), (76, 89, 143.64), (888, 90, 1687.2), (777, 2, 792.54)]\n"
          ]
        }
      ]
    },
    {
      "cell_type": "code",
      "source": [
        "#nested list\n",
        "#[[1,1,1], [2,4,8], [3,9,27]]\n",
        "nested_list =[]\n",
        "for i in range (1,4):\n",
        "  nested_list.append([i, i**2, i**3])\n",
        "print(nested_list)\n"
      ],
      "metadata": {
        "colab": {
          "base_uri": "https://localhost:8080/"
        },
        "id": "W2JWaAhJOTqk",
        "outputId": "b13960b5-9d2d-4f86-97b7-c0e293648abc"
      },
      "execution_count": null,
      "outputs": [
        {
          "output_type": "stream",
          "name": "stdout",
          "text": [
            "[[1, 1, 1], [2, 4, 8], [3, 9, 27]]\n"
          ]
        }
      ]
    },
    {
      "cell_type": "code",
      "source": [
        "#using list comprehension\n",
        "\n",
        "nested_list = [ [ i, i**2, i**3] for i in range(1,8) ]\n",
        "print(nested_list)"
      ],
      "metadata": {
        "colab": {
          "base_uri": "https://localhost:8080/"
        },
        "id": "URdUTCCCPM-t",
        "outputId": "026ecc2a-b29b-457d-dd46-17095f687ef1"
      },
      "execution_count": null,
      "outputs": [
        {
          "output_type": "stream",
          "name": "stdout",
          "text": [
            "[[1, 1, 1], [2, 4, 8], [3, 9, 27], [4, 16, 64], [5, 25, 125], [6, 36, 216], [7, 49, 343]]\n"
          ]
        }
      ]
    },
    {
      "cell_type": "code",
      "source": [
        "#flatten list , beacuse of nested_list we have to use two for loops\n",
        "flattened_list = []\n",
        "for sublist in nested_list:\n",
        "  for item in sublist:\n",
        "      flattened_list.append(item)\n",
        "print(flattened_list)"
      ],
      "metadata": {
        "colab": {
          "base_uri": "https://localhost:8080/"
        },
        "id": "ngjX5hWMQ8iE",
        "outputId": "7bcb6a86-7686-4e2f-c53a-870593a557c6"
      },
      "execution_count": null,
      "outputs": [
        {
          "output_type": "stream",
          "name": "stdout",
          "text": [
            "[1, 1, 1, 2, 4, 8, 3, 9, 27, 4, 16, 64, 5, 25, 125, 6, 36, 216, 7, 49, 343]\n"
          ]
        }
      ]
    },
    {
      "cell_type": "code",
      "source": [
        "#using list comprehension\n",
        "\n",
        "flattened_list = [item for sublist in nested_list for item in sublist]\n",
        "print(flattened_list)"
      ],
      "metadata": {
        "colab": {
          "base_uri": "https://localhost:8080/"
        },
        "id": "RVedEqjtR0PF",
        "outputId": "5272f0a1-f4f1-40fd-fbeb-3ebf66d1b8ca"
      },
      "execution_count": null,
      "outputs": [
        {
          "output_type": "stream",
          "name": "stdout",
          "text": [
            "[1, 1, 1, 2, 4, 8, 3, 9, 27, 4, 16, 64, 5, 25, 125, 6, 36, 216, 7, 49, 343]\n"
          ]
        }
      ]
    },
    {
      "cell_type": "code",
      "source": [
        "orders_list = [\n",
        "              [101, '2023-07-25 00:00:00.0', 11599, 'CLOSED'],\n",
        "              [102, '2023-07-25 00:00:00.0', 256, 'PENDING_PAYMENT'],\n",
        "              [103, '2023-07-25 00:00:00.0', 12111, 'COMPLETE']\n",
        "              ]\n",
        "\n",
        "closed_order = [ x for x in orders_list if x[3] == 'PENDING_PAYMENT']\n",
        "print(closed_order)\n",
        "\n"
      ],
      "metadata": {
        "colab": {
          "base_uri": "https://localhost:8080/"
        },
        "id": "NJ-QS1__TQY2",
        "outputId": "5e7b76cc-9c86-4ddc-fb09-2748d2de3e75"
      },
      "execution_count": null,
      "outputs": [
        {
          "output_type": "stream",
          "name": "stdout",
          "text": [
            "[[102, '2023-07-25 00:00:00.0', 256, 'PENDING_PAYMENT']]\n"
          ]
        }
      ]
    },
    {
      "cell_type": "code",
      "source": [
        "#unpacking\n",
        "\n",
        "orders = [1,\"2013-07-25 00:00:00.0\", 11599, \"CLOSED\"]\n",
        "#traditional way to accessing\n",
        "order_id = orders[0]\n",
        "order_date = orders[1]\n",
        "customer_id = orders[2]\n",
        "order_status = orders[3]\n",
        "print(orders[2])\n",
        "#easy way to access\n",
        "order_id,order_date,customer_id,order_status = orders\n",
        "print(order_id)\n",
        "\n",
        "#same way we can unpack tuples - ()\n"
      ],
      "metadata": {
        "colab": {
          "base_uri": "https://localhost:8080/"
        },
        "id": "lCynRGslVSVc",
        "outputId": "6e0456cb-30eb-4980-b4d6-47f8776d13d1"
      },
      "execution_count": null,
      "outputs": [
        {
          "output_type": "stream",
          "name": "stdout",
          "text": [
            "11599\n",
            "1\n"
          ]
        }
      ]
    },
    {
      "cell_type": "code",
      "source": [
        "customer = [1,\"RichardHernandez\", \"XXXXXXXXX\",\n",
        "           \"XXXXXXXXX\",\"6303 Heather Plaza\",\n",
        "           \"Brownsville\", \"TX\",78521]"
      ],
      "metadata": {
        "id": "yFSU5W6FYCzs"
      },
      "execution_count": null,
      "outputs": []
    },
    {
      "cell_type": "code",
      "source": [
        "#slicing\n",
        "print(customer[0:2])"
      ],
      "metadata": {
        "colab": {
          "base_uri": "https://localhost:8080/"
        },
        "id": "uYCbiCT4YNrD",
        "outputId": "68612dec-b567-4b12-ed8d-3c57d9e804ee"
      },
      "execution_count": null,
      "outputs": [
        {
          "output_type": "stream",
          "name": "stdout",
          "text": [
            "[1, 'RichardHernandez']\n"
          ]
        }
      ]
    },
    {
      "cell_type": "code",
      "source": [
        "#concatenation\n",
        "\n",
        "print(customer[0:2]+customer[4:])"
      ],
      "metadata": {
        "colab": {
          "base_uri": "https://localhost:8080/"
        },
        "id": "KWYb4EILYsHU",
        "outputId": "7174e5ce-5385-48c4-d61d-7688d066dd4c"
      },
      "execution_count": null,
      "outputs": [
        {
          "output_type": "stream",
          "name": "stdout",
          "text": [
            "[1, 'RichardHernandez', '6303 Heather Plaza', 'Brownsville', 'TX', 78521]\n"
          ]
        }
      ]
    },
    {
      "cell_type": "code",
      "source": [
        "order = [1,\"2013-07-25 00:00:00.0\", 11599,\"CLOSED\"]\n",
        "customer = [1,\"Richard, Hernandez\", \"XXxxxxxxX\",\n",
        "\"XXXXXXXXX\", \"6303 Heather Plaza\",\n",
        "\"Brownsville\", \"TX\", 78521]\n",
        "\n"
      ],
      "metadata": {
        "id": "lp4k_GZcZJKt"
      },
      "execution_count": null,
      "outputs": []
    },
    {
      "cell_type": "code",
      "source": [
        "#append\n",
        "order.append(customer)\n",
        "print(order)\n"
      ],
      "metadata": {
        "colab": {
          "base_uri": "https://localhost:8080/"
        },
        "id": "rf7MmzCLZglL",
        "outputId": "ec72e351-f23a-4268-8dcf-ca61d2b8fcf3"
      },
      "execution_count": null,
      "outputs": [
        {
          "output_type": "stream",
          "name": "stdout",
          "text": [
            "[1, '2013-07-25 00:00:00.0', 11599, 'CLOSED', [1, 'Richard, Hernandez', 'XXxxxxxxX', 'XXXXXXXXX', '6303 Heather Plaza', 'Brownsville', 'TX', 78521]]\n"
          ]
        }
      ]
    },
    {
      "cell_type": "code",
      "source": [
        "#we can achieve flattened list as\n",
        "order.extend(customer)\n",
        "print(order)\n"
      ],
      "metadata": {
        "colab": {
          "base_uri": "https://localhost:8080/"
        },
        "id": "eUl5kDbYZr3z",
        "outputId": "e31d0a7d-37db-4f0b-dac3-94b66a2256ae"
      },
      "execution_count": null,
      "outputs": [
        {
          "output_type": "stream",
          "name": "stdout",
          "text": [
            "[1, '2013-07-25 00:00:00.0', 11599, 'CLOSED', [1, 'Richard, Hernandez', 'XXxxxxxxX', 'XXXXXXXXX', '6303 Heather Plaza', 'Brownsville', 'TX', 78521], 1, 'Richard, Hernandez', 'XXxxxxxxX', 'XXXXXXXXX', '6303 Heather Plaza', 'Brownsville', 'TX', 78521]\n"
          ]
        }
      ]
    },
    {
      "cell_type": "code",
      "source": [
        "#enumerate\n",
        "order = [1,\"2013-07-25 00:00:00.0\", 11599,\"CLOSED\"]\n",
        "for index, element in enumerate(order):\n",
        "  print(index, element)"
      ],
      "metadata": {
        "colab": {
          "base_uri": "https://localhost:8080/"
        },
        "id": "tXU96Ya3ZvVr",
        "outputId": "e4c9b8e8-37ac-4869-f115-97067f7d023f"
      },
      "execution_count": null,
      "outputs": [
        {
          "output_type": "stream",
          "name": "stdout",
          "text": [
            "0 1\n",
            "1 2013-07-25 00:00:00.0\n",
            "2 11599\n",
            "3 CLOSED\n"
          ]
        }
      ]
    },
    {
      "cell_type": "code",
      "source": [
        "#for better understanding\n",
        "order = [1,\"2013-07-25 00:00:00.0\", 11599,\"CLOSED\"]\n",
        "for index, element in enumerate(order):\n",
        "  print(f'index: {index} element:{element}')"
      ],
      "metadata": {
        "colab": {
          "base_uri": "https://localhost:8080/"
        },
        "id": "1wQiq-_Waogb",
        "outputId": "eebe6988-a3b2-47d8-9649-7072bcc52008"
      },
      "execution_count": null,
      "outputs": [
        {
          "output_type": "stream",
          "name": "stdout",
          "text": [
            "index: 0 element:1\n",
            "index: 1 element:2013-07-25 00:00:00.0\n",
            "index: 2 element:11599\n",
            "index: 3 element:CLOSED\n"
          ]
        }
      ]
    },
    {
      "cell_type": "code",
      "source": [
        "# Count the number of occurrences of each word\n",
        "''' input_text = input(\"Enter the text: \")\n",
        "input_list = input_text.split(\" \")\n",
        "input_list_lower = [word.lower() for word in input_list]\n",
        "input_set = set(input_list_lower)\n",
        "\n",
        "result_list = []\n",
        "\n",
        "for word in input_set:\n",
        "    result_list.append((word, input_list_lower.count(word)))\n",
        "\n",
        "print(result_list)'''\n",
        "\n",
        "\n",
        "\n"
      ],
      "metadata": {
        "colab": {
          "base_uri": "https://localhost:8080/",
          "height": 52
        },
        "id": "xNAxeDxgcQ0K",
        "outputId": "459c51a7-3558-4277-d6db-0bae5745a036"
      },
      "execution_count": null,
      "outputs": [
        {
          "output_type": "execute_result",
          "data": {
            "text/plain": [
              "' input_text = input(\"Enter the text: \")\\ninput_list = input_text.split(\" \")\\ninput_list_lower = [word.lower() for word in input_list]\\ninput_set = set(input_list_lower)\\n\\nresult_list = []\\n\\nfor word in input_set:\\n    result_list.append((word, input_list_lower.count(word)))\\n\\nprint(result_list)'"
            ],
            "application/vnd.google.colaboratory.intrinsic+json": {
              "type": "string"
            }
          },
          "metadata": {},
          "execution_count": 84
        }
      ]
    },
    {
      "cell_type": "code",
      "source": [
        "\n",
        "#Assignment 1 -\n",
        "\n",
        "['CLOSED', 'PENDING_PAYMENT', 'COMPLETE', 'CLOSED',\n",
        "'COMPLETE', 'COMPLETE', 'COMPLETE', 'PROCESSING',\n",
        "'PENDING_PAYMENT', 'PENDING_PAYMENT']\n",
        "\n",
        "#you find the count of each order status\n",
        "\n",
        "order_statuses = ['CLOSED', 'PENDING_PAYMENT', 'COMPLETE', 'CLOSED', 'COMPLETE', 'COMPLETE', 'COMPLETE', 'PROCESSING', 'PENDING_PAYMENT', 'PENDING_PAYMENT']\n",
        "\n",
        "status_counts = {status: order_statuses.count(status) for status in set(order_statuses)}\n",
        "\n",
        "print(status_counts)\n"
      ],
      "metadata": {
        "id": "AwR8M37NcWCz",
        "colab": {
          "base_uri": "https://localhost:8080/"
        },
        "outputId": "e217ca77-8266-4afc-dd44-14aaa3d28451"
      },
      "execution_count": null,
      "outputs": [
        {
          "output_type": "stream",
          "name": "stdout",
          "text": [
            "{'COMPLETE': 4, 'PENDING_PAYMENT': 3, 'CLOSED': 2, 'PROCESSING': 1}\n"
          ]
        }
      ]
    },
    {
      "cell_type": "code",
      "source": [
        "#Assignment - 2\n",
        "\n",
        "transactions = [\n",
        "    [1, 100, 'success'],\n",
        "    [2, 200, 'pending'],\n",
        "    [3, 150, 'success'],\n",
        "    [4, 300, 'failed'],\n",
        "    [5, 400, 'success'],\n",
        "    [6, 250, 'failed'],\n",
        "    [7, 350, 'success'],\n",
        "    [8, 450, 'pending'],\n",
        "    [9, 500, 'pending'],\n",
        "    [10, 600, 'failed']\n",
        "]\n",
        "\n",
        "# Counting the number of transactions with each status\n",
        "status_counts = {status: sum(1 for transaction in transactions if transaction[2] == status) for status in ['success', 'pending', 'failed']}\n",
        "\n",
        "print(status_counts)\n"
      ],
      "metadata": {
        "colab": {
          "base_uri": "https://localhost:8080/"
        },
        "id": "t3hvBzwyCAku",
        "outputId": "5276ed66-f323-4c35-cff5-713d012f2ef9"
      },
      "execution_count": null,
      "outputs": [
        {
          "output_type": "stream",
          "name": "stdout",
          "text": [
            "{'success': 4, 'pending': 3, 'failed': 3}\n"
          ]
        }
      ]
    },
    {
      "cell_type": "code",
      "source": [
        "#Assignement - 3\n",
        "\n",
        "employees = [\n",
        "    [101, 'John', 'IT', 60000],\n",
        "    [102, 'Alice', 'HR', 50000],\n",
        "    [103, 'Bob', 'Finance', 70000],\n",
        "    [104, 'Emma', 'IT', 55000],\n",
        "    [105, 'David', 'Finance', 75000],\n",
        "    [106, 'Sophia', 'HR', 48000]\n",
        "]\n",
        "\n",
        "# Calculate total salary and count of employees for each department\n",
        "department_stats = {dept: [sum(emp[3] for emp in employees if emp[2] == dept),\n",
        "                            sum(1 for emp in employees if emp[2] == dept)]\n",
        "                    for dept in set(emp[2] for emp in employees)}\n",
        "\n",
        "# Calculate average salary for each department\n",
        "average_salaries = {dept: stats[0] / stats[1] for dept, stats in department_stats.items()}\n",
        "\n",
        "print(average_salaries)\n"
      ],
      "metadata": {
        "colab": {
          "base_uri": "https://localhost:8080/"
        },
        "id": "DuZCD28ZCBnk",
        "outputId": "846aa9d3-5540-46f4-f97c-c2f6c9589519"
      },
      "execution_count": null,
      "outputs": [
        {
          "output_type": "stream",
          "name": "stdout",
          "text": [
            "{'Finance': 72500.0, 'HR': 49000.0, 'IT': 57500.0}\n"
          ]
        }
      ]
    }
  ]
}