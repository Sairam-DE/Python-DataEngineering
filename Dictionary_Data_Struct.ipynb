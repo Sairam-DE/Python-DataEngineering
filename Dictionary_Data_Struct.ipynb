{
  "nbformat": 4,
  "nbformat_minor": 0,
  "metadata": {
    "colab": {
      "provenance": [],
      "authorship_tag": "ABX9TyNg/ySIURup6bvRHVZpWgNa",
      "include_colab_link": true
    },
    "kernelspec": {
      "name": "python3",
      "display_name": "Python 3"
    },
    "language_info": {
      "name": "python"
    }
  },
  "cells": [
    {
      "cell_type": "markdown",
      "metadata": {
        "id": "view-in-github",
        "colab_type": "text"
      },
      "source": [
        "<a href=\"https://colab.research.google.com/github/Sairam-DE/Python-DataEngineering/blob/main/Dictionary_Data_Struct.ipynb\" target=\"_parent\"><img src=\"https://colab.research.google.com/assets/colab-badge.svg\" alt=\"Open In Colab\"/></a>"
      ]
    },
    {
      "cell_type": "code",
      "execution_count": 67,
      "metadata": {
        "colab": {
          "base_uri": "https://localhost:8080/",
          "height": 52
        },
        "id": "0e1e0D_yaiMv",
        "outputId": "82fd7097-887e-4ba5-d1ef-75552a8291bf"
      },
      "outputs": [
        {
          "output_type": "execute_result",
          "data": {
            "text/plain": [
              "'\\nDictionary is mutable\\n- we can change the value for a particular key\\n.- we can add more entries\\n- we can remove some of the entries\\n\\nRemember the key should be immutable\\n\\n'"
            ],
            "application/vnd.google.colaboratory.intrinsic+json": {
              "type": "string"
            }
          },
          "metadata": {},
          "execution_count": 67
        }
      ],
      "source": [
        "#Python Dictionary\n",
        "#Dictionary represenred - { }\n",
        "#dict={\"one\":1, \"two\":2}\n",
        "#key = one, value=1\n",
        "#it contains keys and value\n",
        "#so it is known as key value pairs\n",
        "\"\"\"\n",
        "Dictionary is mutable\n",
        "- we can change the value for a particular key\n",
        ".- we can add more entries\n",
        "- we can remove some of the entries\n",
        "\n",
        "Remember the key should be immutable\n",
        "\n",
        "\"\"\""
      ]
    },
    {
      "cell_type": "code",
      "source": [
        "word_dict = {\"intelligent\": \"The one who is really brilliant\",\n",
        "\"rich\":\"a person who has a lot of money\",\n",
        "\"car\":\"a 4 wheeler vehicle\"}\n",
        "\n",
        "print(word_dict)"
      ],
      "metadata": {
        "colab": {
          "base_uri": "https://localhost:8080/"
        },
        "id": "z3o4EN9abqFP",
        "outputId": "06b036b8-b175-41fe-eacd-8c907ce0d17d"
      },
      "execution_count": 68,
      "outputs": [
        {
          "output_type": "stream",
          "name": "stdout",
          "text": [
            "{'intelligent': 'The one who is really brilliant', 'rich': 'a person who has a lot of money', 'car': 'a 4 wheeler vehicle'}\n"
          ]
        }
      ]
    },
    {
      "cell_type": "code",
      "source": [
        "fruit_dict = {\"summer\":\"mango\", \"rainy\":\"guava\", \"winter\":\"orange\"}\n",
        "print(fruit_dict)"
      ],
      "metadata": {
        "colab": {
          "base_uri": "https://localhost:8080/"
        },
        "id": "rv8UnsJAcPdp",
        "outputId": "a1591d1a-9337-489d-87d1-bd01b03316ea"
      },
      "execution_count": 69,
      "outputs": [
        {
          "output_type": "stream",
          "name": "stdout",
          "text": [
            "{'summer': 'mango', 'rainy': 'guava', 'winter': 'orange'}\n"
          ]
        }
      ]
    },
    {
      "cell_type": "code",
      "source": [
        "print(type(fruit_dict)) #to know the data structure"
      ],
      "metadata": {
        "colab": {
          "base_uri": "https://localhost:8080/"
        },
        "id": "9--QnMG6cj4a",
        "outputId": "4f4a3142-2a57-414e-e98c-eb12d9dfc8e9"
      },
      "execution_count": 70,
      "outputs": [
        {
          "output_type": "stream",
          "name": "stdout",
          "text": [
            "<class 'dict'>\n"
          ]
        }
      ]
    },
    {
      "cell_type": "code",
      "source": [
        "#it's not sequence like lists and tuples\n",
        "#we need to access by using key"
      ],
      "metadata": {
        "id": "UyuD_XO0ctuh"
      },
      "execution_count": 71,
      "outputs": []
    },
    {
      "cell_type": "code",
      "source": [
        "print(fruit_dict['summer'])"
      ],
      "metadata": {
        "colab": {
          "base_uri": "https://localhost:8080/"
        },
        "id": "VXXAqOmXc_SF",
        "outputId": "e7a4a370-493f-4bd0-d812-dea02210be9c"
      },
      "execution_count": 72,
      "outputs": [
        {
          "output_type": "stream",
          "name": "stdout",
          "text": [
            "mango\n"
          ]
        }
      ]
    },
    {
      "cell_type": "code",
      "source": [
        "#here we can have various data types\n",
        "student_dict = {\"name\":\"mario\", \"roll.no\":\"69\", \"marks\":\"pass\",\n",
        "                \"address\":\"st.louis\", 75:\"mathsmarks\"}"
      ],
      "metadata": {
        "id": "Z7HQtJ1odFnH"
      },
      "execution_count": 73,
      "outputs": []
    },
    {
      "cell_type": "code",
      "source": [
        "print(student_dict['roll.no'])"
      ],
      "metadata": {
        "colab": {
          "base_uri": "https://localhost:8080/"
        },
        "id": "22W5GnQJdx_t",
        "outputId": "d7d94e9b-d576-4bc8-cb2f-14912a144b49"
      },
      "execution_count": 74,
      "outputs": [
        {
          "output_type": "stream",
          "name": "stdout",
          "text": [
            "69\n"
          ]
        }
      ]
    },
    {
      "cell_type": "code",
      "source": [
        "print(student_dict[75])"
      ],
      "metadata": {
        "colab": {
          "base_uri": "https://localhost:8080/"
        },
        "id": "-V5QOwTIeBqr",
        "outputId": "58d2412f-dd62-497a-8de6-3e5849f9ef76"
      },
      "execution_count": 75,
      "outputs": [
        {
          "output_type": "stream",
          "name": "stdout",
          "text": [
            "mathsmarks\n"
          ]
        }
      ]
    },
    {
      "cell_type": "code",
      "source": [
        "# .get helps us to get rid of errors\n",
        "#print(word_dict(3)) --uncomment this to know the error\n",
        "print(word_dict.get(3))"
      ],
      "metadata": {
        "colab": {
          "base_uri": "https://localhost:8080/"
        },
        "id": "e8nFfNUKeYuN",
        "outputId": "cc9cdf09-cf62-4113-ae10-71c649e4027c"
      },
      "execution_count": 76,
      "outputs": [
        {
          "output_type": "stream",
          "name": "stdout",
          "text": [
            "None\n"
          ]
        }
      ]
    },
    {
      "cell_type": "code",
      "source": [
        "#advancing-tuple\n",
        "student_dict = {\"name\":\"mario\", \"roll.no\":\"69\", \"marks\":\"pass\",\n",
        "                \"address\":\"st.louis\", 75:\"mathsmarks\",\n",
        "                 (10,69,6069):\" Feecost\"}\n",
        "\n",
        "\n"
      ],
      "metadata": {
        "id": "0KCc9wenfKBu"
      },
      "execution_count": 77,
      "outputs": []
    },
    {
      "cell_type": "code",
      "source": [
        "print(student_dict[(10,69,6069)])"
      ],
      "metadata": {
        "colab": {
          "base_uri": "https://localhost:8080/"
        },
        "id": "7X_ZoSIGfkgR",
        "outputId": "be5367e6-eae7-4d44-91d0-ff4aa73ad13e"
      },
      "execution_count": 78,
      "outputs": [
        {
          "output_type": "stream",
          "name": "stdout",
          "text": [
            " Feecost\n"
          ]
        }
      ]
    },
    {
      "cell_type": "code",
      "source": [
        "\"\"\"\n",
        "advancing-list\n",
        "student_dict = {\"name\":\"mario\", \"roll.no\":\"69\", \"marks\":\"pass\",\n",
        "                \"address\":\"st.louis\", 75:\"mathsmarks\",\n",
        "                 [10,69,6069]:\" Feecost\"}\n",
        "                  \"\"\"\n",
        "\n",
        "#keys-umnutable\n",
        "#values can be mutuable\n",
        "#so it will not accept list\n",
        ""
      ],
      "metadata": {
        "colab": {
          "base_uri": "https://localhost:8080/",
          "height": 52
        },
        "id": "qEEpWvNTf90J",
        "outputId": "65f7049b-b268-43f4-f463-4b778391d6fd"
      },
      "execution_count": 79,
      "outputs": [
        {
          "output_type": "execute_result",
          "data": {
            "text/plain": [
              "'\\nadvancing-list\\nstudent_dict = {\"name\":\"mario\", \"roll.no\":\"69\", \"marks\":\"pass\", \\n                \"address\":\"st.louis\", 75:\"mathsmarks\",\\n                 [10,69,6069]:\" Feecost\"}\\n                  '"
            ],
            "application/vnd.google.colaboratory.intrinsic+json": {
              "type": "string"
            }
          },
          "metadata": {},
          "execution_count": 79
        }
      ]
    },
    {
      "cell_type": "code",
      "source": [
        "#adding more elements\n",
        "\n",
        "student_dict[\"father name\"] = \"reddy\"\n",
        "\n",
        "print(student_dict)"
      ],
      "metadata": {
        "colab": {
          "base_uri": "https://localhost:8080/"
        },
        "id": "bQyAkUHOgmdG",
        "outputId": "380c00a9-b655-4438-ba70-412d8becf3ef"
      },
      "execution_count": 80,
      "outputs": [
        {
          "output_type": "stream",
          "name": "stdout",
          "text": [
            "{'name': 'mario', 'roll.no': '69', 'marks': 'pass', 'address': 'st.louis', 75: 'mathsmarks', (10, 69, 6069): ' Feecost', 'father name': 'reddy'}\n"
          ]
        }
      ]
    },
    {
      "cell_type": "code",
      "source": [
        "#changing the existing value\n",
        "\n",
        "student_dict[\"name\"] = \"mario reddy\"\n",
        "print(student_dict)\n"
      ],
      "metadata": {
        "colab": {
          "base_uri": "https://localhost:8080/"
        },
        "id": "TQLC4GRihTFr",
        "outputId": "3fa58591-f106-4f7e-9250-aab98180a016"
      },
      "execution_count": 81,
      "outputs": [
        {
          "output_type": "stream",
          "name": "stdout",
          "text": [
            "{'name': 'mario reddy', 'roll.no': '69', 'marks': 'pass', 'address': 'st.louis', 75: 'mathsmarks', (10, 69, 6069): ' Feecost', 'father name': 'reddy'}\n"
          ]
        }
      ]
    },
    {
      "cell_type": "code",
      "source": [
        "mario_marks = [(1, 88), (2, 92), (3, 77)]\n",
        "\n",
        "#converting in to dict\n",
        "\n",
        "mariomarks_dict = dict(mario_marks)\n",
        "print(mariomarks_dict)"
      ],
      "metadata": {
        "colab": {
          "base_uri": "https://localhost:8080/"
        },
        "id": "mPKpmpwghopv",
        "outputId": "5a2a0dcb-4a4f-4d5d-fb20-ff5c0b216578"
      },
      "execution_count": 82,
      "outputs": [
        {
          "output_type": "stream",
          "name": "stdout",
          "text": [
            "{1: 88, 2: 92, 3: 77}\n"
          ]
        }
      ]
    },
    {
      "cell_type": "code",
      "source": [
        "#here we can get the data by using key\n",
        "print(mariomarks_dict[2])"
      ],
      "metadata": {
        "colab": {
          "base_uri": "https://localhost:8080/"
        },
        "id": "VYpY6qDQi5Wg",
        "outputId": "5ed0e058-176e-49b6-951c-05b2919946d8"
      },
      "execution_count": 83,
      "outputs": [
        {
          "output_type": "stream",
          "name": "stdout",
          "text": [
            "92\n"
          ]
        }
      ]
    },
    {
      "cell_type": "code",
      "source": [
        "#to get all the key\n",
        "\n",
        "mariomarks_dict_keys = mariomarks_dict.keys()\n",
        "print(mariomarks_dict_keys)"
      ],
      "metadata": {
        "colab": {
          "base_uri": "https://localhost:8080/"
        },
        "id": "AwX7GGq1jPBW",
        "outputId": "90fcb821-f28e-4c02-eee0-1cd26b835dee"
      },
      "execution_count": 84,
      "outputs": [
        {
          "output_type": "stream",
          "name": "stdout",
          "text": [
            "dict_keys([1, 2, 3])\n"
          ]
        }
      ]
    },
    {
      "cell_type": "code",
      "source": [
        "#to get all the values\n",
        "mariomarks_dict_values = mariomarks_dict.values()\n",
        "print(mariomarks_dict_values)\n"
      ],
      "metadata": {
        "colab": {
          "base_uri": "https://localhost:8080/"
        },
        "id": "sj9CQZSZj4g-",
        "outputId": "ec765868-3eb4-4cb2-f67f-81a3c075d6db"
      },
      "execution_count": 85,
      "outputs": [
        {
          "output_type": "stream",
          "name": "stdout",
          "text": [
            "dict_values([88, 92, 77])\n"
          ]
        }
      ]
    },
    {
      "cell_type": "code",
      "source": [
        "#items\n",
        "mariomarks_dict_items = mariomarks_dict.items()\n",
        "print(mariomarks_dict_items)\n"
      ],
      "metadata": {
        "colab": {
          "base_uri": "https://localhost:8080/"
        },
        "id": "FjtVkE55kC_P",
        "outputId": "713feb21-d06d-41ed-c66f-65d56b522efe"
      },
      "execution_count": 86,
      "outputs": [
        {
          "output_type": "stream",
          "name": "stdout",
          "text": [
            "dict_items([(1, 88), (2, 92), (3, 77)])\n"
          ]
        }
      ]
    },
    {
      "cell_type": "code",
      "source": [
        "#to get it as a list\n",
        "mariomarks_dict_items = list(mariomarks_dict.items())\n",
        "print(mariomarks_dict_items)\n"
      ],
      "metadata": {
        "colab": {
          "base_uri": "https://localhost:8080/"
        },
        "id": "yGYPQ0EAkP8e",
        "outputId": "4ad9c3d0-52a0-4dda-cda7-e879323af9d9"
      },
      "execution_count": 87,
      "outputs": [
        {
          "output_type": "stream",
          "name": "stdout",
          "text": [
            "[(1, 88), (2, 92), (3, 77)]\n"
          ]
        }
      ]
    },
    {
      "cell_type": "code",
      "source": [
        "#length of a dictionary\n",
        "print(len(mariomarks_dict))"
      ],
      "metadata": {
        "colab": {
          "base_uri": "https://localhost:8080/"
        },
        "id": "DQmEhLthke_d",
        "outputId": "9017f0b1-b56d-4d99-e9a6-28a50531dcc8"
      },
      "execution_count": 88,
      "outputs": [
        {
          "output_type": "stream",
          "name": "stdout",
          "text": [
            "3\n"
          ]
        }
      ]
    },
    {
      "cell_type": "code",
      "source": [
        "#by using .clear()\n",
        "\"\"\"\n",
        "it is going to clear data in the dict\n",
        "\n",
        "\"\"\""
      ],
      "metadata": {
        "colab": {
          "base_uri": "https://localhost:8080/",
          "height": 35
        },
        "id": "MEedAZpqkv58",
        "outputId": "dc241b51-a5ff-4f69-dcb7-430e26d6dab7"
      },
      "execution_count": 89,
      "outputs": [
        {
          "output_type": "execute_result",
          "data": {
            "text/plain": [
              "'\\nit is going to clear data in the dict\\n\\n'"
            ],
            "application/vnd.google.colaboratory.intrinsic+json": {
              "type": "string"
            }
          },
          "metadata": {},
          "execution_count": 89
        }
      ]
    },
    {
      "cell_type": "code",
      "source": [
        "\"\"\"Customers Data\n",
        "\n",
        "customer_id, customer_fname,customer_lname,address,city, state, pincode\n",
        "11599,Mary,Malone,8708 Indian Horse Highway,Hickory,NC,28601\n",
        "256, David, Rodriguez, 7605 Tawny Horse Falls, Chicago, IL, 60625\n",
        "12111,Amber,Franco,8766 Clear Prairie Line, Santa Cruz, CA, 95060\n",
        "8827, Brian,Wilson, 8396 High Corners,San Antonio, TX, 78240\n",
        "11318,Mary,Henry,3047 Silent Embers Maze, Caguas, PR, 00725\n",
        "\n",
        "\"\"\""
      ],
      "metadata": {
        "colab": {
          "base_uri": "https://localhost:8080/",
          "height": 70
        },
        "id": "EhT-pLp6lxxK",
        "outputId": "399e0c68-20db-4b75-f2b8-0f11577ae5c5"
      },
      "execution_count": 90,
      "outputs": [
        {
          "output_type": "execute_result",
          "data": {
            "text/plain": [
              "'Customers Data\\n\\ncustomer_id, customer_fname,customer_lname,address,city, state, pincode\\n11599,Mary,Malone,8708 Indian Horse Highway,Hickory,NC,28601\\n256, David, Rodriguez, 7605 Tawny Horse Falls, Chicago, IL, 60625\\n12111,Amber,Franco,8766 Clear Prairie Line, Santa Cruz, CA, 95060\\n8827, Brian,Wilson, 8396 High Corners,San Antonio, TX, 78240\\n11318,Mary,Henry,3047 Silent Embers Maze, Caguas, PR, 00725\\n\\n'"
            ],
            "application/vnd.google.colaboratory.intrinsic+json": {
              "type": "string"
            }
          },
          "metadata": {},
          "execution_count": 90
        }
      ]
    },
    {
      "cell_type": "code",
      "source": [
        "\n",
        "\n",
        "customers_raw_data = \"\"\"customer_id, customer_fname,customer_lname,address,city, state, pincode\n",
        "11599,Mary,Malone,8708 Indian Horse Highway,Hickory,NC,28601\n",
        "256, David, Rodriguez, 7605 Tawny Horse Falls, Chicago, IL, 60625\n",
        "12111,Amber,Franco,8766 Clear Prairie Line, Santa Cruz, CA, 95060\n",
        "8827, Brian,Wilson, 8396 High Corners,San Antonio, TX, 78240\n",
        "11318,Mary,Henry,3047 Silent Embers Maze, Caguas, PR, 00725\"\"\"\n",
        "\n"
      ],
      "metadata": {
        "id": "gLj4IuTUl35W"
      },
      "execution_count": 91,
      "outputs": []
    },
    {
      "cell_type": "code",
      "source": [
        "raw_orders_data = \"\"\"1,2013-07-25 00:00:00.0,11599, CLOSED\n",
        "2,2013-07-25 00:00:00.0,256, PENDING_PAYMENT\n",
        "3,2013-07-25 00:00:00.0, 12111, COMPLETE\n",
        "4,2013-07-25 00:00:00.0,8827,CLOSED\n",
        "5,2013-07-25 00:00:00.0, 11318, COMPLETE\"\"\""
      ],
      "metadata": {
        "id": "-btiLKgU0C3S"
      },
      "execution_count": 105,
      "outputs": []
    },
    {
      "cell_type": "code",
      "source": [
        "orders_data = raw_orders_data.split(\"\\n\")\n",
        "print(orders_data)"
      ],
      "metadata": {
        "colab": {
          "base_uri": "https://localhost:8080/"
        },
        "id": "jLrjtKlR0LdQ",
        "outputId": "af5a5ca0-9cf7-493b-a6e4-2d678f9e7c56"
      },
      "execution_count": 108,
      "outputs": [
        {
          "output_type": "stream",
          "name": "stdout",
          "text": [
            "['1,2013-07-25 00:00:00.0,11599, CLOSED', '2,2013-07-25 00:00:00.0,256, PENDING_PAYMENT', '3,2013-07-25 00:00:00.0, 12111, COMPLETE', '4,2013-07-25 00:00:00.0,8827,CLOSED', '5,2013-07-25 00:00:00.0, 11318, COMPLETE']\n"
          ]
        }
      ]
    },
    {
      "cell_type": "code",
      "source": [
        "customer_header = customers_raw_data.split(\"\\n\")\n",
        "print(customer_header)"
      ],
      "metadata": {
        "colab": {
          "base_uri": "https://localhost:8080/"
        },
        "id": "v651fYgQl--V",
        "outputId": "a10bc1ef-380c-4ad3-e34b-34052b407746"
      },
      "execution_count": 92,
      "outputs": [
        {
          "output_type": "stream",
          "name": "stdout",
          "text": [
            "['customer_id, customer_fname,customer_lname,address,city, state, pincode', '11599,Mary,Malone,8708 Indian Horse Highway,Hickory,NC,28601', '256, David, Rodriguez, 7605 Tawny Horse Falls, Chicago, IL, 60625', '12111,Amber,Franco,8766 Clear Prairie Line, Santa Cruz, CA, 95060', '8827, Brian,Wilson, 8396 High Corners,San Antonio, TX, 78240', '11318,Mary,Henry,3047 Silent Embers Maze, Caguas, PR, 00725']\n"
          ]
        }
      ]
    },
    {
      "cell_type": "code",
      "source": [
        "customer_data = customers_raw_data.split(\"\\n\")[1:]"
      ],
      "metadata": {
        "id": "rAm4_oC_mmnA"
      },
      "execution_count": 93,
      "outputs": []
    },
    {
      "cell_type": "code",
      "source": [
        "print(customer_data)"
      ],
      "metadata": {
        "colab": {
          "base_uri": "https://localhost:8080/"
        },
        "id": "R6HDUyqTm0Zc",
        "outputId": "26676797-c998-4c58-f1a0-26943ca6c1d3"
      },
      "execution_count": 142,
      "outputs": [
        {
          "output_type": "stream",
          "name": "stdout",
          "text": [
            "['11599,Mary,Malone,8708 Indian Horse Highway,Hickory,NC,28601', '256, David, Rodriguez, 7605 Tawny Horse Falls, Chicago, IL, 60625', '12111,Amber,Franco,8766 Clear Prairie Line, Santa Cruz, CA, 95060', '8827, Brian,Wilson, 8396 High Corners,San Antonio, TX, 78240', '11318,Mary,Henry,3047 Silent Embers Maze, Caguas, PR, 00725']\n"
          ]
        }
      ]
    },
    {
      "cell_type": "code",
      "source": [
        "#changing in to dict\n",
        "#creating empty dict as customer_dict\n",
        "\n",
        "\n",
        "customer_header = customers_raw_data.split(\"\\n\")[0]\n",
        "\n",
        "customer_data = customers_raw_data.split(\"\\n\")[1:]\n",
        "\n",
        "customer_dict = {}\n",
        "\n",
        "for x in customer_data:\n",
        "    customer_dict[x.split(\",\")[0]] = tuple(x.split(\",\") [1:])\n",
        "\n",
        "\n",
        "print(customer_dict)"
      ],
      "metadata": {
        "colab": {
          "base_uri": "https://localhost:8080/"
        },
        "id": "KJKNRHpPnjJS",
        "outputId": "ca118a4b-1f7f-46dc-8d85-658e4559c234"
      },
      "execution_count": 143,
      "outputs": [
        {
          "output_type": "stream",
          "name": "stdout",
          "text": [
            "{'11599': ('Mary', 'Malone', '8708 Indian Horse Highway', 'Hickory', 'NC', '28601'), '256': (' David', ' Rodriguez', ' 7605 Tawny Horse Falls', ' Chicago', ' IL', ' 60625'), '12111': ('Amber', 'Franco', '8766 Clear Prairie Line', ' Santa Cruz', ' CA', ' 95060'), '8827': (' Brian', 'Wilson', ' 8396 High Corners', 'San Antonio', ' TX', ' 78240'), '11318': ('Mary', 'Henry', '3047 Silent Embers Maze', ' Caguas', ' PR', ' 00725')}\n"
          ]
        }
      ]
    },
    {
      "cell_type": "code",
      "source": [
        "#to get all the values of a particular key we have\n",
        "\n",
        "print(customer_dict['11599'])"
      ],
      "metadata": {
        "colab": {
          "base_uri": "https://localhost:8080/"
        },
        "id": "2E61U-uGoHXZ",
        "outputId": "34f04651-37f6-45da-ca8b-3688cc30eaa4"
      },
      "execution_count": 96,
      "outputs": [
        {
          "output_type": "stream",
          "name": "stdout",
          "text": [
            "('Mary', 'Malone', '8708 Indian Horse Highway', 'Hickory', 'NC', '28601')\n"
          ]
        }
      ]
    },
    {
      "cell_type": "code",
      "source": [
        "#dictionary comprehension\n",
        "#syntax sugar\n",
        "customer_dict = {x.split(\",\")[0] : tuple(x.split(\",\") [1:]) for x in customer_data}\n",
        "print(customer_dict)"
      ],
      "metadata": {
        "colab": {
          "base_uri": "https://localhost:8080/"
        },
        "id": "jbagey6RoVWn",
        "outputId": "31e9a7a5-a56e-4d34-dd97-7300f3fb59fe"
      },
      "execution_count": 97,
      "outputs": [
        {
          "output_type": "stream",
          "name": "stdout",
          "text": [
            "{'11599': ('Mary', 'Malone', '8708 Indian Horse Highway', 'Hickory', 'NC', '28601'), '256': (' David', ' Rodriguez', ' 7605 Tawny Horse Falls', ' Chicago', ' IL', ' 60625'), '12111': ('Amber', 'Franco', '8766 Clear Prairie Line', ' Santa Cruz', ' CA', ' 95060'), '8827': (' Brian', 'Wilson', ' 8396 High Corners', 'San Antonio', ' TX', ' 78240'), '11318': ('Mary', 'Henry', '3047 Silent Embers Maze', ' Caguas', ' PR', ' 00725')}\n"
          ]
        }
      ]
    },
    {
      "cell_type": "code",
      "source": [
        "#nested dictionary\n",
        "customer_header = customers_raw_data.split(\"\\n\")[0]\n",
        "\n",
        "customer_data = customers_raw_data.split(\"\\n\")[1:]\n",
        "\n",
        "nested_dict = {}\n",
        "\n",
        "for key, value in customer_dict.items():\n",
        "    nested_dict[key] = {\n",
        "    \"customer fname\" : value[0],\n",
        "    \"customer_Lname\" : value[1],\n",
        "    \"address\" : value[2],\n",
        "    \"city\" : value[3],\n",
        "    \"state\" : value[4],\n",
        "    \"pincode\" : value[5]\n",
        "    }\n",
        "print(nested_dict)"
      ],
      "metadata": {
        "colab": {
          "base_uri": "https://localhost:8080/"
        },
        "id": "PTUISImqpg-R",
        "outputId": "cc345dd2-8533-4fe8-ba7e-4507cacbb3a3"
      },
      "execution_count": 98,
      "outputs": [
        {
          "output_type": "stream",
          "name": "stdout",
          "text": [
            "{'11599': {'customer fname': 'Mary', 'customer_Lname': 'Malone', 'address': '8708 Indian Horse Highway', 'city': 'Hickory', 'state': 'NC', 'pincode': '28601'}, '256': {'customer fname': ' David', 'customer_Lname': ' Rodriguez', 'address': ' 7605 Tawny Horse Falls', 'city': ' Chicago', 'state': ' IL', 'pincode': ' 60625'}, '12111': {'customer fname': 'Amber', 'customer_Lname': 'Franco', 'address': '8766 Clear Prairie Line', 'city': ' Santa Cruz', 'state': ' CA', 'pincode': ' 95060'}, '8827': {'customer fname': ' Brian', 'customer_Lname': 'Wilson', 'address': ' 8396 High Corners', 'city': 'San Antonio', 'state': ' TX', 'pincode': ' 78240'}, '11318': {'customer fname': 'Mary', 'customer_Lname': 'Henry', 'address': '3047 Silent Embers Maze', 'city': ' Caguas', 'state': ' PR', 'pincode': ' 00725'}}\n"
          ]
        }
      ]
    },
    {
      "cell_type": "code",
      "source": [
        "#we can easily access values\n",
        "print(nested_dict.get(\"12111\").get(\"pincode\"))\n"
      ],
      "metadata": {
        "colab": {
          "base_uri": "https://localhost:8080/"
        },
        "id": "C2lh7qrhrGDp",
        "outputId": "bdca6638-dd9f-4271-fdc3-42375c4255fd"
      },
      "execution_count": 99,
      "outputs": [
        {
          "output_type": "stream",
          "name": "stdout",
          "text": [
            " 95060\n"
          ]
        }
      ]
    },
    {
      "cell_type": "code",
      "source": [
        "customer_id = input(\"enter the customer id>> \")\n",
        "customer_details =input(\"what details you want>> \")\n",
        "print(nested_dict.get(customer_id).get(customer_details))"
      ],
      "metadata": {
        "colab": {
          "base_uri": "https://localhost:8080/"
        },
        "id": "yM55CzS3rdFS",
        "outputId": "c5294759-7233-4a80-a308-cd39fb128bb8"
      },
      "execution_count": 100,
      "outputs": [
        {
          "output_type": "stream",
          "name": "stdout",
          "text": [
            "enter the customer id>> 256\n",
            "what details you want>> customer_lname\n",
            "None\n"
          ]
        }
      ]
    },
    {
      "cell_type": "code",
      "source": [
        "#dynamically noticing\n",
        "\n",
        "\"\"\"customer_id = input(\"enter the customer id>> \")\n",
        "customer_details =input(\"what details you want>> \")\n",
        "\n",
        "customer_header = customers_raw_data.split(\"\\n\")[0].split(\",\")\n",
        "\n",
        "customer_data = customers_raw_data.split(\"\\n\")[1:]\n",
        "\n",
        "nested_dict = {}\n",
        "\n",
        "for key, value in customer_dict.items():\n",
        "    nested_dict[key] = {\n",
        "    customer_header[1] : value[0],\n",
        "    customer_header[2] : value[1],\n",
        "    customer_header[3] : value[2],\n",
        "    customer_header[4] : value[3],\n",
        "    customer_header[5] : value[4],\n",
        "    customer_header[6] : value[5]\n",
        "    }\n",
        "print(nested_dict.get(customer_id).get(customer_details)) \"\"\"\n",
        "\n"
      ],
      "metadata": {
        "colab": {
          "base_uri": "https://localhost:8080/",
          "height": 87
        },
        "id": "m9h_jYFAsCZB",
        "outputId": "2ef0130b-3b77-451b-ff01-4609a535f9ba"
      },
      "execution_count": 140,
      "outputs": [
        {
          "output_type": "execute_result",
          "data": {
            "text/plain": [
              "'customer_id = input(\"enter the customer id>> \")\\ncustomer_details =input(\"what details you want>> \")\\n\\ncustomer_header = customers_raw_data.split(\"\\n\")[0].split(\",\")\\n\\ncustomer_data = customers_raw_data.split(\"\\n\")[1:]\\n\\nnested_dict = {}\\n\\nfor key, value in customer_dict.items():\\n    nested_dict[key] = {\\n    customer_header[1] : value[0],\\n    customer_header[2] : value[1],\\n    customer_header[3] : value[2],\\n    customer_header[4] : value[3],\\n    customer_header[5] : value[4],\\n    customer_header[6] : value[5]\\n    }\\nprint(nested_dict.get(customer_id).get(customer_details)) '"
            ],
            "application/vnd.google.colaboratory.intrinsic+json": {
              "type": "string"
            }
          },
          "metadata": {},
          "execution_count": 140
        }
      ]
    },
    {
      "cell_type": "code",
      "source": [
        "raw_orders_data = \"\"\"1,2013-07-25 00:00:00.0,11599, CLOSED\n",
        "2,2013-07-25 00:00:00.0,256, PENDING_PAYMENT\n",
        "3,2013-07-25 00:00:00.0, 12111, COMPLETE\n",
        "4,2013-07-25 00:00:00.0,8827,CLOSED\n",
        "5,2013-07-25 00:00:00.0, 11318, COMPLETE\"\"\""
      ],
      "metadata": {
        "id": "aKVi-sEDuG7S"
      },
      "execution_count": 139,
      "outputs": []
    },
    {
      "cell_type": "code",
      "source": [
        "orders_data = raw_orders_data.split(\"\\n\")"
      ],
      "metadata": {
        "id": "0POSsocyv-ka"
      },
      "execution_count": 144,
      "outputs": []
    },
    {
      "cell_type": "code",
      "source": [
        "\"\"\"combined_result = []\n",
        "for x in orders_data:\n",
        "    order = x.split(\",\")\n",
        "    combined_result.append((order[0],order[1],order[2],order[3],customer_dict[order[2]]))\n",
        "print(combined_result)   \"\"\"\n"
      ],
      "metadata": {
        "colab": {
          "base_uri": "https://localhost:8080/",
          "height": 52
        },
        "id": "UMxt0BTWwNp_",
        "outputId": "1bedaa54-a22b-4036-9aea-70e20f9da969"
      },
      "execution_count": 146,
      "outputs": [
        {
          "output_type": "execute_result",
          "data": {
            "text/plain": [
              "'combined_result = []\\nfor x in orders_data:\\n    order = x.split(\",\")\\n    combined_result.append((order[0],order[1],order[2],order[3],customer_dict[order[2]]))\\nprint(combined_result)   '"
            ],
            "application/vnd.google.colaboratory.intrinsic+json": {
              "type": "string"
            }
          },
          "metadata": {},
          "execution_count": 146
        }
      ]
    },
    {
      "cell_type": "code",
      "source": [
        "#solve the abov error\n",
        "#by removing comment"
      ],
      "metadata": {
        "id": "_pT0TgBNzeQF"
      },
      "execution_count": null,
      "outputs": []
    }
  ]
}