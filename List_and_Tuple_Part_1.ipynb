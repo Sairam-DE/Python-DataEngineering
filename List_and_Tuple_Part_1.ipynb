{
  "nbformat": 4,
  "nbformat_minor": 0,
  "metadata": {
    "colab": {
      "provenance": [],
      "authorship_tag": "ABX9TyNmrQW9xVMFDEUcZMny45RC",
      "include_colab_link": true
    },
    "kernelspec": {
      "name": "python3",
      "display_name": "Python 3"
    },
    "language_info": {
      "name": "python"
    }
  },
  "cells": [
    {
      "cell_type": "markdown",
      "metadata": {
        "id": "view-in-github",
        "colab_type": "text"
      },
      "source": [
        "<a href=\"https://colab.research.google.com/github/Sairam-DE/Python-DataEngineering/blob/main/List_and_Tuple_Part_1.ipynb\" target=\"_parent\"><img src=\"https://colab.research.google.com/assets/colab-badge.svg\" alt=\"Open In Colab\"/></a>"
      ]
    },
    {
      "cell_type": "code",
      "execution_count": null,
      "metadata": {
        "id": "w0Xtjta6y6cb"
      },
      "outputs": [],
      "source": [
        "#4 main data structures in python [Collection type ]\n",
        "#Collection type - hold more than one value, a list of value\n",
        "#--> List\n",
        "#---> Tuple\n",
        "#---> set\n",
        "#----> Dictionary\n",
        "\n",
        "'''Examples:-\n",
        "    List [1,2,3,4]\n",
        "    Tuple (1,2,3,4)\n",
        "    set - {1,2,3,4}\n",
        "    dictionary - {\"Movie\": \"VakeelSaab\", \"rsd\":\"08/04/2021\", \"ticket price\" : 1500 }\n",
        "    '''\n"
      ]
    },
    {
      "cell_type": "code",
      "source": [
        "'''\n",
        "     Sequence types - List , Tuples , String\n",
        "     Mutable vs immutable -\n",
        "     Mutable - the value can be changed\n",
        "     Immutable - Can't be Changed\n",
        "     String - immutable\n",
        "     List - mutable\n",
        "     Tuple - immutable\n",
        "     set - mutable\n",
        "     dictionary - mutable '''\n",
        "\n",
        "\n"
      ],
      "metadata": {
        "id": "ngFbCECS0Zye"
      },
      "execution_count": null,
      "outputs": []
    },
    {
      "cell_type": "code",
      "source": [
        "#list\n",
        "Movie = ['VakeelSaab', \"2022-04-08\", 'Watched', \"1500\"]\n",
        "#printing list\n",
        "print(Movie)"
      ],
      "metadata": {
        "colab": {
          "base_uri": "https://localhost:8080/"
        },
        "id": "aVqbJqXW1TLN",
        "outputId": "02b22609-1a6a-48cb-b700-f70226ff84d3"
      },
      "execution_count": null,
      "outputs": [
        {
          "output_type": "stream",
          "name": "stdout",
          "text": [
            "['VakeelSaab', '2022-04-08', 'Watched', '1500']\n"
          ]
        }
      ]
    },
    {
      "cell_type": "code",
      "source": [
        "print(type(Movie))"
      ],
      "metadata": {
        "colab": {
          "base_uri": "https://localhost:8080/"
        },
        "id": "LS77Znm84j9M",
        "outputId": "8a698a15-517b-4f32-9204-a14f673dcec9"
      },
      "execution_count": null,
      "outputs": [
        {
          "output_type": "stream",
          "name": "stdout",
          "text": [
            "<class 'list'>\n"
          ]
        }
      ]
    },
    {
      "cell_type": "code",
      "source": [
        "#tuple\n",
        "movie = ('VakeelSaab', \"2022-04-08\", 'Watched', \"1500\")\n",
        "#printing tuple\n",
        "print(movie)"
      ],
      "metadata": {
        "colab": {
          "base_uri": "https://localhost:8080/"
        },
        "id": "h_M5bPa385UX",
        "outputId": "bbfa6e34-dbcb-4013-d38b-9539a5eda0ae"
      },
      "execution_count": null,
      "outputs": [
        {
          "output_type": "stream",
          "name": "stdout",
          "text": [
            "('VakeelSaab', '2022-04-08', 'Watched', '1500')\n"
          ]
        }
      ]
    },
    {
      "cell_type": "code",
      "source": [
        "print(type(movie))"
      ],
      "metadata": {
        "colab": {
          "base_uri": "https://localhost:8080/"
        },
        "id": "TMVGlyIV9Tyg",
        "outputId": "87f9f085-e826-4776-ce94-19ec6e155b25"
      },
      "execution_count": null,
      "outputs": [
        {
          "output_type": "stream",
          "name": "stdout",
          "text": [
            "<class 'tuple'>\n"
          ]
        }
      ]
    },
    {
      "cell_type": "code",
      "source": [
        "#Acessing with index (List)\n",
        "print(Movie[3])"
      ],
      "metadata": {
        "colab": {
          "base_uri": "https://localhost:8080/"
        },
        "id": "n3lm5d9f2eTC",
        "outputId": "c2bbf6cf-249f-414d-fc4d-6c9bc6f14b83"
      },
      "execution_count": null,
      "outputs": [
        {
          "output_type": "stream",
          "name": "stdout",
          "text": [
            "1500\n"
          ]
        }
      ]
    },
    {
      "cell_type": "code",
      "source": [
        "#When we try to access index which is not present throws error as  Index out of range"
      ],
      "metadata": {
        "id": "xLp4BDr55PDg"
      },
      "execution_count": null,
      "outputs": []
    },
    {
      "cell_type": "code",
      "source": [
        "#Mutability\n",
        "Movie[2] = 'Not Yet Watched'\n",
        "print(Movie)"
      ],
      "metadata": {
        "colab": {
          "base_uri": "https://localhost:8080/"
        },
        "id": "PEIUo1dm2tEe",
        "outputId": "e1038d77-8312-4be3-f5a3-34d290d65096"
      },
      "execution_count": null,
      "outputs": [
        {
          "output_type": "stream",
          "name": "stdout",
          "text": [
            "['VakeelSaab', '2022-04-08', 'Not Yet Watched', '1500']\n"
          ]
        }
      ]
    },
    {
      "cell_type": "code",
      "source": [
        "#Where you can see we achieved mutability successfully"
      ],
      "metadata": {
        "id": "ku3gUGUh3ACR"
      },
      "execution_count": null,
      "outputs": []
    },
    {
      "cell_type": "code",
      "source": [
        "movie(2) = 'Not Yet Watched'\n",
        "print(movie)"
      ],
      "metadata": {
        "colab": {
          "base_uri": "https://localhost:8080/",
          "height": 124
        },
        "id": "ereKOdy6-fyA",
        "outputId": "e93bdcd6-7b3d-4af2-c1e7-e53a15a3ada2"
      },
      "execution_count": null,
      "outputs": [
        {
          "output_type": "error",
          "ename": "SyntaxError",
          "evalue": "cannot assign to function call here. Maybe you meant '==' instead of '='? (<ipython-input-21-c3aa0b0724ae>, line 1)",
          "traceback": [
            "\u001b[0;36m  File \u001b[0;32m\"<ipython-input-21-c3aa0b0724ae>\"\u001b[0;36m, line \u001b[0;32m1\u001b[0m\n\u001b[0;31m    movie(2) = 'Not Yet Watched'\u001b[0m\n\u001b[0m    ^\u001b[0m\n\u001b[0;31mSyntaxError\u001b[0m\u001b[0;31m:\u001b[0m cannot assign to function call here. Maybe you meant '==' instead of '='?\n"
          ]
        }
      ]
    },
    {
      "cell_type": "code",
      "source": [
        "#you can see error, mutability is not supported in tuple"
      ],
      "metadata": {
        "id": "gXnldli3-plE"
      },
      "execution_count": null,
      "outputs": []
    },
    {
      "cell_type": "code",
      "source": [
        "#append\n",
        "Movie.append('2hrs 30mins')\n",
        "print(Movie)\n",
        "#When ever we use append the ingested will add at end"
      ],
      "metadata": {
        "colab": {
          "base_uri": "https://localhost:8080/"
        },
        "id": "HFU0M0dG3Fxd",
        "outputId": "e4875a9f-ccff-4dd5-b9c9-c32485fcd0b1"
      },
      "execution_count": null,
      "outputs": [
        {
          "output_type": "stream",
          "name": "stdout",
          "text": [
            "['VakeelSaab', '2022-04-08', 'Not Yet Watched', '1500', '2hrs 30mins', '2hrs 30mins']\n"
          ]
        }
      ]
    },
    {
      "cell_type": "code",
      "source": [
        "#append only works with list not with tuple\n"
      ],
      "metadata": {
        "id": "soH5b0xV6X0s"
      },
      "execution_count": null,
      "outputs": []
    },
    {
      "cell_type": "code",
      "source": [
        "#at specific index\n",
        "Movie.insert(1, 'Friday')\n",
        "print(Movie)\n"
      ],
      "metadata": {
        "colab": {
          "base_uri": "https://localhost:8080/"
        },
        "id": "evvjMCYj_JfU",
        "outputId": "9c9fb372-2de8-4783-b716-1c67ad8a6388"
      },
      "execution_count": null,
      "outputs": [
        {
          "output_type": "stream",
          "name": "stdout",
          "text": [
            "['VakeelSaab', 'Friday', '2022-04-08', 'Not Yet Watched', '1500', '2hrs 30mins', '2hrs 30mins']\n"
          ]
        }
      ]
    },
    {
      "cell_type": "code",
      "source": [
        "#you can see we added index at 1 by using insert\n",
        "#insert not works for tuple"
      ],
      "metadata": {
        "id": "DVozjF5W_uUP"
      },
      "execution_count": null,
      "outputs": []
    },
    {
      "cell_type": "code",
      "source": [
        "#finding length\n",
        "print(len(Movie)) #length of list\n",
        "\n",
        "print(len(movie)) #length of tuple works because not manipulating"
      ],
      "metadata": {
        "colab": {
          "base_uri": "https://localhost:8080/"
        },
        "id": "IdIMrbhk_6F4",
        "outputId": "608c68fd-b581-4aaa-a2d7-123a4c55d592"
      },
      "execution_count": null,
      "outputs": [
        {
          "output_type": "stream",
          "name": "stdout",
          "text": [
            "7\n",
            "4\n"
          ]
        }
      ]
    },
    {
      "cell_type": "code",
      "source": [
        "#it is not possible to compare integer with string\n",
        "#it only possible when we have exclusively integers or in some cases strings\n"
      ],
      "metadata": {
        "id": "JSTXN6j3AOAY"
      },
      "execution_count": null,
      "outputs": []
    },
    {
      "cell_type": "code",
      "source": [
        "#understanding min and max\n",
        "#exclusively with integers\n",
        "\n",
        "l1 = [1,2,3,4,99,69,79]\n",
        "t1 = (1,2,3,78,69,6093)\n",
        "#min = minimum\n",
        "#max - maximum\n",
        "print(min(l1))\n",
        "print(min(t1))\n",
        "print(max(l1))\n",
        "print(max(t1))\n",
        "#got understanding in both list and tuple\n"
      ],
      "metadata": {
        "colab": {
          "base_uri": "https://localhost:8080/"
        },
        "id": "41wTNxzQAubS",
        "outputId": "42e9642f-b6a4-4977-f948-5b2007f8b5ce"
      },
      "execution_count": null,
      "outputs": [
        {
          "output_type": "stream",
          "name": "stdout",
          "text": [
            "1\n",
            "1\n",
            "99\n",
            "6093\n"
          ]
        }
      ]
    },
    {
      "cell_type": "code",
      "source": [
        "#pop - removes last element of the list\n",
        "Movie.pop\n",
        "print(Movie)\n"
      ],
      "metadata": {
        "colab": {
          "base_uri": "https://localhost:8080/"
        },
        "id": "_ZfkOgXCBcCd",
        "outputId": "fb533356-3a5b-42ed-b5a6-ff9a02fce2a1"
      },
      "execution_count": null,
      "outputs": [
        {
          "output_type": "stream",
          "name": "stdout",
          "text": [
            "['VakeelSaab', 'Friday', '2022-04-08', 'Not Yet Watched', '1500', '2hrs 30mins', '2hrs 30mins']\n"
          ]
        }
      ]
    },
    {
      "cell_type": "code",
      "source": [
        "#pop - won't work for tuple\n"
      ],
      "metadata": {
        "id": "xQlcy_PEByGT"
      },
      "execution_count": null,
      "outputs": []
    },
    {
      "cell_type": "code",
      "source": [
        "# for loop\n",
        "for x in Movie:\n",
        "  print(Movie)"
      ],
      "metadata": {
        "colab": {
          "base_uri": "https://localhost:8080/"
        },
        "id": "5qaWRs1BB2Rx",
        "outputId": "61e25bf8-217f-460d-9e2a-ba9a12b2a990"
      },
      "execution_count": null,
      "outputs": [
        {
          "output_type": "stream",
          "name": "stdout",
          "text": [
            "['VakeelSaab', 'Friday', '2022-04-08', 'Not Yet Watched', '1500', '2hrs 30mins', '2hrs 30mins']\n",
            "['VakeelSaab', 'Friday', '2022-04-08', 'Not Yet Watched', '1500', '2hrs 30mins', '2hrs 30mins']\n",
            "['VakeelSaab', 'Friday', '2022-04-08', 'Not Yet Watched', '1500', '2hrs 30mins', '2hrs 30mins']\n",
            "['VakeelSaab', 'Friday', '2022-04-08', 'Not Yet Watched', '1500', '2hrs 30mins', '2hrs 30mins']\n",
            "['VakeelSaab', 'Friday', '2022-04-08', 'Not Yet Watched', '1500', '2hrs 30mins', '2hrs 30mins']\n",
            "['VakeelSaab', 'Friday', '2022-04-08', 'Not Yet Watched', '1500', '2hrs 30mins', '2hrs 30mins']\n",
            "['VakeelSaab', 'Friday', '2022-04-08', 'Not Yet Watched', '1500', '2hrs 30mins', '2hrs 30mins']\n"
          ]
        }
      ]
    },
    {
      "cell_type": "code",
      "source": [
        "#data type\n",
        "for x in Movie:\n",
        "  print(type(x))\n"
      ],
      "metadata": {
        "colab": {
          "base_uri": "https://localhost:8080/"
        },
        "id": "Npb5ypXcCTq8",
        "outputId": "6c98506a-bec3-4c46-fd72-2a35d01cc037"
      },
      "execution_count": null,
      "outputs": [
        {
          "output_type": "stream",
          "name": "stdout",
          "text": [
            "<class 'str'>\n",
            "<class 'str'>\n",
            "<class 'str'>\n",
            "<class 'str'>\n",
            "<class 'str'>\n",
            "<class 'str'>\n",
            "<class 'str'>\n"
          ]
        }
      ]
    },
    {
      "cell_type": "code",
      "source": [
        "numbers = range(1,11)\n",
        "sum = 0\n",
        "for x in numbers:\n",
        "  sum = sum + x\n",
        "print(sum)\n"
      ],
      "metadata": {
        "colab": {
          "base_uri": "https://localhost:8080/"
        },
        "id": "InnI_NyGCtMn",
        "outputId": "a1a2a2f4-0d84-46eb-b54b-f68cdf9dffcf"
      },
      "execution_count": null,
      "outputs": [
        {
          "output_type": "stream",
          "name": "stdout",
          "text": [
            "55\n"
          ]
        }
      ]
    },
    {
      "cell_type": "code",
      "source": [
        "#from userinput\n",
        "range_start = int(input(\"starting range: \"))\n",
        "range_end   = int(input(\"ending range: \"))\n",
        "numbers = range(range_start, range_end+1)\n",
        "sum = 0\n",
        "for x in numbers:\n",
        "  sum = sum + x\n",
        "print(sum)"
      ],
      "metadata": {
        "id": "mKJ_56onEDmS"
      },
      "execution_count": null,
      "outputs": []
    },
    {
      "cell_type": "code",
      "source": [
        "#working with uncleaned data - LIST\n",
        "\n",
        "prices = [69,6093,420, None, 151, 22, 11, \"invalid\", 175.69, 2]\n",
        "sum = 0\n",
        "for x in prices:\n",
        "  if type(x) == int or type(x) == float:\n",
        "    sum = sum + x\n",
        "  else:\n",
        "       continue\n",
        "print(sum)\n"
      ],
      "metadata": {
        "colab": {
          "base_uri": "https://localhost:8080/"
        },
        "id": "mDBZW754EwBF",
        "outputId": "b7e0bcf4-6444-4778-cd75-4920de0ee742"
      },
      "execution_count": null,
      "outputs": [
        {
          "output_type": "stream",
          "name": "stdout",
          "text": [
            "6943.69\n"
          ]
        }
      ]
    },
    {
      "cell_type": "code",
      "source": [
        "#Continue Will bring you next iteration of the loop"
      ],
      "metadata": {
        "id": "fQ8G4p7yNupC"
      },
      "execution_count": null,
      "outputs": []
    },
    {
      "cell_type": "code",
      "source": [
        "#second way\n",
        "i = 0\n",
        "sum = 0\n",
        "while i < len(prices):\n",
        "  if type(prices[i]) == int or type(prices[i]) == float:\n",
        "      sum = sum + prices[i]\n",
        "  else:\n",
        "      i = i + 1\n",
        "      continue\n",
        "  i = i + 1\n",
        "print(sum)"
      ],
      "metadata": {
        "colab": {
          "base_uri": "https://localhost:8080/"
        },
        "id": "DVnbyGFcG1FO",
        "outputId": "0ee7d348-2cf4-4c39-9df0-6e313c65e4f2"
      },
      "execution_count": null,
      "outputs": [
        {
          "output_type": "stream",
          "name": "stdout",
          "text": [
            "6943.69\n"
          ]
        }
      ]
    },
    {
      "cell_type": "code",
      "source": [
        "#break will simply break the loop"
      ],
      "metadata": {
        "id": "JDXVGdFAOBbG"
      },
      "execution_count": null,
      "outputs": []
    },
    {
      "cell_type": "code",
      "source": [
        "#3rd Way\n",
        "\n",
        "i = 0\n",
        "sum = 0\n",
        "while True:\n",
        "  if type(prices[i]) == int or type(prices[i]) == float:\n",
        "      sum = sum + prices[i]\n",
        "  else:\n",
        "      i = i + 1\n",
        "      continue\n",
        "  i = i + 1\n",
        "  if i == len(prices):\n",
        "      break\n",
        "print(sum)"
      ],
      "metadata": {
        "colab": {
          "base_uri": "https://localhost:8080/"
        },
        "id": "nOhkizVsNUu-",
        "outputId": "fbff40ef-2335-46f6-d7be-9ad5a25315a1"
      },
      "execution_count": null,
      "outputs": [
        {
          "output_type": "stream",
          "name": "stdout",
          "text": [
            "6943.69\n"
          ]
        }
      ]
    },
    {
      "cell_type": "code",
      "source": [
        "#acquiring index\n",
        "print(Movie.index(\"1500\")) #list\n",
        "print(movie.index(\"1500\")) #tuple - works because we are just acquiring not manipulating\n"
      ],
      "metadata": {
        "colab": {
          "base_uri": "https://localhost:8080/"
        },
        "id": "SDjgk2_TNqvl",
        "outputId": "a9e9a684-1b85-4846-856e-5c1fe3e6c29d"
      },
      "execution_count": null,
      "outputs": [
        {
          "output_type": "stream",
          "name": "stdout",
          "text": [
            "4\n",
            "3\n"
          ]
        }
      ]
    },
    {
      "cell_type": "code",
      "source": [
        "#Knowing by overcoming errors\n",
        "print(\"1500\" in Movie) # if it present gives true othrewise gives false\n",
        "print(\"13\" in movie)"
      ],
      "metadata": {
        "colab": {
          "base_uri": "https://localhost:8080/"
        },
        "id": "0DlHT1grOg37",
        "outputId": "1994d966-f686-4e50-9d09-6b8e57ceac45"
      },
      "execution_count": null,
      "outputs": [
        {
          "output_type": "stream",
          "name": "stdout",
          "text": [
            "True\n",
            "False\n"
          ]
        }
      ]
    },
    {
      "cell_type": "code",
      "source": [
        "#gives us count\n",
        "prices = [69, 69, 78, 69, 79, 6093]\n",
        "print(prices.count(69))\n",
        "\n",
        "\n",
        "price = (69, 69, 78, 69, 79, 6093)\n",
        "print(price.count(6093))\n",
        "\n",
        "prices.sort()\n",
        "print(prices)\n",
        "#price.sort() - sort won't work with tuple\n",
        "#print(price.sort())\n",
        "prices.reverse()\n",
        "print(prices)\n",
        "#price.reverse() # reverse won't work with tuple\n",
        "#print(price.reverse())\n",
        "\n"
      ],
      "metadata": {
        "colab": {
          "base_uri": "https://localhost:8080/"
        },
        "id": "iYPPtCZzPfGW",
        "outputId": "28af7f26-4113-4578-82cb-34c30b3680cb"
      },
      "execution_count": null,
      "outputs": [
        {
          "output_type": "stream",
          "name": "stdout",
          "text": [
            "3\n",
            "1\n",
            "[69, 69, 69, 78, 79, 6093]\n",
            "[6093, 79, 78, 69, 69, 69]\n"
          ]
        }
      ]
    },
    {
      "cell_type": "code",
      "source": [
        "#when two list pointing towards same memory location\n",
        "values = [95, 98, 97, 88, 100, 90]\n",
        "values_new = values\n",
        "values_new[1] = 69\n",
        "print(values)"
      ],
      "metadata": {
        "colab": {
          "base_uri": "https://localhost:8080/"
        },
        "id": "bLuXOugeRZo8",
        "outputId": "e8abb973-9ac7-4708-b8cd-52601b3a6860"
      },
      "execution_count": null,
      "outputs": [
        {
          "output_type": "stream",
          "name": "stdout",
          "text": [
            "[95, 69, 97, 88, 100, 90]\n"
          ]
        }
      ]
    },
    {
      "cell_type": "code",
      "source": [
        "#when we copy the changes won't reflect at old one\n",
        "magnitude = [10,20,69,89,76,92]\n",
        "magnitude_new = magnitude.copy\n",
        "#magnitude_new[1] = 88 - remove copy and try\n",
        "print(magnitude)"
      ],
      "metadata": {
        "colab": {
          "base_uri": "https://localhost:8080/"
        },
        "id": "Rw_0A2fqSVJ-",
        "outputId": "77ddfe37-95f1-4f91-ccda-ba7924b54e7d"
      },
      "execution_count": null,
      "outputs": [
        {
          "output_type": "stream",
          "name": "stdout",
          "text": [
            "[10, 20, 69, 89, 76, 92]\n"
          ]
        }
      ]
    },
    {
      "cell_type": "code",
      "source": [
        "mag_ids = [2, 3, 22, 2, 7, 88, 899, 88, 3, 99, 0, 77]\n",
        "#finding the unique values\n",
        "\n",
        "uniquemag_ids = []\n",
        "for x in mag_ids:\n",
        "    if x in uniquemag_ids:\n",
        "      continue\n",
        "    else:\n",
        "      uniquemag_ids.append(x)\n",
        "print(uniquemag_ids)\n"
      ],
      "metadata": {
        "colab": {
          "base_uri": "https://localhost:8080/"
        },
        "id": "h9S2rUYpTEQA",
        "outputId": "94101f63-fcf1-46ed-c3b9-67f39a7acbe1"
      },
      "execution_count": null,
      "outputs": [
        {
          "output_type": "stream",
          "name": "stdout",
          "text": [
            "[2, 3, 22, 7, 88, 899, 99, 0, 77]\n"
          ]
        }
      ]
    },
    {
      "cell_type": "code",
      "source": [
        "#another way by using propert of set\n",
        "#property of set when we put same value multiple times it only holds one time\n",
        "#we are using the set property\n",
        "\n",
        "uniquemag_ids = set(mag_ids)\n",
        "print(uniquemag_ids)\n"
      ],
      "metadata": {
        "colab": {
          "base_uri": "https://localhost:8080/"
        },
        "id": "O7fJgs-EUYEu",
        "outputId": "7be8d63c-6d9e-4459-e84c-738a15a454df"
      },
      "execution_count": null,
      "outputs": [
        {
          "output_type": "stream",
          "name": "stdout",
          "text": [
            "{0, 2, 3, 899, 99, 7, 77, 22, 88}\n"
          ]
        }
      ]
    }
  ]
}